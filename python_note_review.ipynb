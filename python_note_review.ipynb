{
 "cells": [
  {
   "cell_type": "code",
   "execution_count": 41,
   "id": "7444919a-c93a-4129-94ec-1e4aabd100c4",
   "metadata": {},
   "outputs": [],
   "source": [
    "age = 25"
   ]
  },
  {
   "cell_type": "code",
   "execution_count": 43,
   "id": "922c0d39-3b08-4434-a394-a083fcca8fa3",
   "metadata": {},
   "outputs": [
    {
     "name": "stdout",
     "output_type": "stream",
     "text": [
      "25\n"
     ]
    }
   ],
   "source": [
    "print (age)"
   ]
  },
  {
   "cell_type": "code",
   "execution_count": 52,
   "id": "b9f77c43-566d-4ec5-99d1-c3cd89e83239",
   "metadata": {},
   "outputs": [],
   "source": [
    "sch = \"kelvin\""
   ]
  },
  {
   "cell_type": "code",
   "execution_count": 54,
   "id": "123e3178-3299-4097-8ec3-dea0dfa63a20",
   "metadata": {},
   "outputs": [
    {
     "name": "stdout",
     "output_type": "stream",
     "text": [
      "kelvin\n"
     ]
    }
   ],
   "source": [
    "print (sch)"
   ]
  },
  {
   "cell_type": "code",
   "execution_count": 56,
   "id": "7ce0270f-6a55-4f31-aafd-63beb73374ea",
   "metadata": {},
   "outputs": [],
   "source": [
    "def general():\n",
    "    print(\"hello world\")"
   ]
  },
  {
   "cell_type": "code",
   "execution_count": 58,
   "id": "cd776613-ed1b-4ccb-90d1-0ca029276aec",
   "metadata": {},
   "outputs": [
    {
     "name": "stdout",
     "output_type": "stream",
     "text": [
      "hello world\n"
     ]
    }
   ],
   "source": [
    "general()"
   ]
  },
  {
   "cell_type": "code",
   "execution_count": 73,
   "id": "aa886154-66c8-46e7-aaba-ca15fe469156",
   "metadata": {},
   "outputs": [],
   "source": [
    "def greeting (name):\n",
    "    print(\"hello \" + name + \"!\" )"
   ]
  },
  {
   "cell_type": "code",
   "execution_count": 77,
   "id": "c18d6ab1-c4a7-49b6-8d93-e62cb8bc1013",
   "metadata": {},
   "outputs": [
    {
     "name": "stdout",
     "output_type": "stream",
     "text": [
      "hello kelvin!\n"
     ]
    }
   ],
   "source": [
    "greeting (\"kelvin\")"
   ]
  },
  {
   "cell_type": "code",
   "execution_count": 48,
   "id": "95d8a21b-72ed-486b-a39e-abca7ddf8252",
   "metadata": {},
   "outputs": [
    {
     "name": "stdout",
     "output_type": "stream",
     "text": [
      "eke market day is :  1\n",
      "eke market day is :  8\n",
      "eke market day is :  15\n",
      "eke market day is :  22\n",
      "eke market day is :  29\n"
     ]
    }
   ],
   "source": [
    "eke_market_day = 1 \n",
    "while eke_market_day < 30:\n",
    "    print(f\"eke market day is :  {eke_market_day}\")\n",
    "    eke_market_day += 7\n",
    "\n"
   ]
  },
  {
   "cell_type": "code",
   "execution_count": 1,
   "id": "dca58511-abe8-4455-ba76-c165e2da6459",
   "metadata": {},
   "outputs": [
    {
     "name": "stdout",
     "output_type": "stream",
     "text": [
      "Current number: 0\n",
      "Current number: 1\n",
      "Current number: 2\n",
      "Skipping 3\n",
      "Current number: 4\n"
     ]
    }
   ],
   "source": [
    "#how to use contiue\n",
    "for i in range(5):\n",
    "    if i == 3:\n",
    "        print(\"Skipping\", i)\n",
    "        continue\n",
    "    print(\"Current number:\", i)"
   ]
  },
  {
   "cell_type": "code",
   "execution_count": 2,
   "id": "bea1a836-3ceb-4d1b-b933-d13d3e33c0c7",
   "metadata": {},
   "outputs": [
    {
     "name": "stdout",
     "output_type": "stream",
     "text": [
      "Current number: 0\n",
      "Current number: 1\n",
      "Current number: 2\n",
      "Breaking at 3\n"
     ]
    }
   ],
   "source": [
    "#how to use break \n",
    "for i in range(5):\n",
    "    if i == 3:\n",
    "        print(\"Breaking at\", i)\n",
    "        break\n",
    "    print(\"Current number:\", i)"
   ]
  },
  {
   "cell_type": "code",
   "execution_count": 3,
   "id": "4ca35fc7-3158-4ddd-ab9c-e61fdafc61ac",
   "metadata": {},
   "outputs": [
    {
     "name": "stdout",
     "output_type": "stream",
     "text": [
      "Current number: 0\n",
      "Current number: 1\n",
      "Current number: 2\n",
      "Pass at 3\n",
      "Current number: 3\n",
      "Current number: 4\n"
     ]
    }
   ],
   "source": [
    "for i in range(5):\n",
    "    if i == 3:\n",
    "        pass  # Placeholder, can be used while developing\n",
    "        print(\"Pass at\", i)\n",
    "    print(\"Current number:\", i)"
   ]
  },
  {
   "cell_type": "code",
   "execution_count": 21,
   "id": "ba6a8c9a-82ee-4b19-b34b-4b351f6ded2b",
   "metadata": {},
   "outputs": [
    {
     "name": "stdout",
     "output_type": "stream",
     "text": [
      "when x is = 0\n",
      "0\n",
      "0\n",
      "0\n",
      "when x is = 1\n",
      "0\n",
      "1\n",
      "2\n",
      "when x is = 2\n",
      "0\n",
      "2\n",
      "4\n"
     ]
    }
   ],
   "source": [
    "#outer loop\n",
    "for x in range (3):\n",
    "    print (f\"when x is = {x}\")\n",
    "#inner loop\n",
    "    for y in range (3):\n",
    "            print (x * y)"
   ]
  },
  {
   "cell_type": "code",
   "execution_count": 25,
   "id": "342a3ea1-614b-43a9-b65a-11a78cf3d4f1",
   "metadata": {},
   "outputs": [
    {
     "name": "stdout",
     "output_type": "stream",
     "text": [
      "0 0\n",
      "0 1\n",
      "0 2\n",
      "1 0\n",
      "1 1\n",
      "1 2\n",
      "2 0\n",
      "2 1\n",
      "2 2\n"
     ]
    }
   ],
   "source": [
    "#outer loop\n",
    "for i in range (3):\n",
    "    for j in range (3):\n",
    "        print (i,j)"
   ]
  },
  {
   "cell_type": "code",
   "execution_count": 24,
   "id": "34a90b15-c589-485a-9e7a-45617eb42152",
   "metadata": {},
   "outputs": [
    {
     "name": "stdout",
     "output_type": "stream",
     "text": [
      "*\n",
      "**\n",
      "***\n",
      "****\n"
     ]
    }
   ],
   "source": [
    "for i in range(1, 5):\n",
    "    print('*' * i)"
   ]
  },
  {
   "cell_type": "code",
   "execution_count": 26,
   "id": "e239d1bd-4aa2-4be2-910b-ea85bd14acdf",
   "metadata": {},
   "outputs": [],
   "source": [
    "#total in this function is a local scope, and cannot be called outside this function. it wouold return \"total not defined error\"\n",
    "def get_total (a,b):\n",
    "    total = a + b;\n",
    "    return total "
   ]
  },
  {
   "cell_type": "code",
   "execution_count": 27,
   "id": "d8d98458-43ee-467d-9f38-16d2a0c5217b",
   "metadata": {},
   "outputs": [
    {
     "data": {
      "text/plain": [
       "5"
      ]
     },
     "execution_count": 27,
     "metadata": {},
     "output_type": "execute_result"
    }
   ],
   "source": [
    "get_total(2,3)"
   ]
  },
  {
   "cell_type": "code",
   "execution_count": 43,
   "id": "b16c1c00-5d2a-4176-a08a-86cb8c747bb5",
   "metadata": {},
   "outputs": [],
   "source": [
    "# list uses square brackets []\n",
    "# tuples uses parenthesis ()\n",
    "# dictionaries uses curly brackets {}\n",
    "#dictionaries uses curly brackets {}"
   ]
  },
  {
   "cell_type": "code",
   "execution_count": null,
   "id": "bba691e3-d032-4286-bd1c-12bb673fc466",
   "metadata": {},
   "outputs": [],
   "source": [
    "#SET IS NOT A SEQUENCE \n",
    "\n",
    "#A sequence is an ordered collection of elements, meaning the elements have a defined order \n",
    "#(e.g., you can access them by index like my_list[0] or my_tuple[1]).\n",
    "\n",
    "#Sets, on the other hand, are unordered, which means they do not keep track of the order in which items are added. \n",
    "#You cannot access elements by index in a set."
   ]
  },
  {
   "cell_type": "code",
   "execution_count": 29,
   "id": "bec2ddda-5bf7-4c0e-88b0-743f69c2fc49",
   "metadata": {},
   "outputs": [
    {
     "name": "stdout",
     "output_type": "stream",
     "text": [
      "[1, 2, 3, 4]\n"
     ]
    }
   ],
   "source": [
    "#diff btw insert and append on a list\n",
    "#Adds an item to the end of the list.\n",
    "#It’s faster because it simply adds the element at the last position.\n",
    "\n",
    "my_list = [1, 2, 3]\n",
    "my_list.append(4)   # Adds 4 to the end\n",
    "print(my_list)      # Output: [1, 2, 3, 4]"
   ]
  },
  {
   "cell_type": "code",
   "execution_count": 30,
   "id": "b2526e8c-5f7d-4434-ae5d-85ba09c65f9c",
   "metadata": {},
   "outputs": [
    {
     "name": "stdout",
     "output_type": "stream",
     "text": [
      "[1, 4, 2, 3]\n"
     ]
    }
   ],
   "source": [
    "#Inserts an item at a specific position in the list.\n",
    "#You specify the index where the new item should go.\n",
    "#All elements after the insertion point are shifted to the right\n",
    "my_list = [1, 2, 3]\n",
    "my_list.insert(1, 4)  # Inserts 4 at index 1\n",
    "print(my_list)        # Output: [1, 4, 2, 3]"
   ]
  },
  {
   "cell_type": "code",
   "execution_count": null,
   "id": "d13005c5-a1d2-4d47-825a-634fce3f2c44",
   "metadata": {},
   "outputs": [],
   "source": [
    "#example on how to use the extend list to add multiple items  on one list to an already existing list"
   ]
  },
  {
   "cell_type": "code",
   "execution_count": 31,
   "id": "e692afd0-4cfb-4298-91ff-54ff4396fd39",
   "metadata": {},
   "outputs": [],
   "source": [
    "my_list = [1,2,3]"
   ]
  },
  {
   "cell_type": "code",
   "execution_count": 32,
   "id": "71c48afc-6bec-402f-94bc-84e8f758cb11",
   "metadata": {},
   "outputs": [],
   "source": [
    "new_elements = [6,7,8]"
   ]
  },
  {
   "cell_type": "code",
   "execution_count": 33,
   "id": "e1b25e8c-7f7f-4fec-9b90-549c59a0683f",
   "metadata": {},
   "outputs": [],
   "source": [
    "my_list.extend (new_elements)"
   ]
  },
  {
   "cell_type": "code",
   "execution_count": 34,
   "id": "7352524a-2410-440b-b3d8-ddb2910055b9",
   "metadata": {},
   "outputs": [
    {
     "name": "stdout",
     "output_type": "stream",
     "text": [
      "[1, 2, 3, 6, 7, 8]\n"
     ]
    }
   ],
   "source": [
    "print (my_list)"
   ]
  },
  {
   "cell_type": "code",
   "execution_count": 41,
   "id": "21e93853-13ca-4f78-8059-686ae9cfa66c",
   "metadata": {},
   "outputs": [
    {
     "name": "stdout",
     "output_type": "stream",
     "text": [
      "3\n",
      "6\n"
     ]
    }
   ],
   "source": [
    "#to get the total number of items in a list use a len() not a count function\n",
    "\n",
    "my_list = [1, 2, 2, 3, 3, 3]\n",
    "print(my_list.count(3))  # Output: 3 (because 3 appears twice)\n",
    "print (len(my_list))\n"
   ]
  },
  {
   "cell_type": "code",
   "execution_count": 42,
   "id": "5d5d7a8c-c8c7-4ca1-b2db-859954920896",
   "metadata": {},
   "outputs": [
    {
     "name": "stdout",
     "output_type": "stream",
     "text": [
      "{1, 2, 3, 4}\n"
     ]
    }
   ],
   "source": [
    "#the append method does not work on sets to add or remove simply use the set_name.add() or set_name.remove() method\n",
    "my_set = {1, 2, 3}\n",
    "\n",
    "# Adding an element to the set\n",
    "my_set.add(4)\n",
    "\n",
    "print(my_set)  # Output: {1, 2, 3, 4}"
   ]
  },
  {
   "cell_type": "code",
   "execution_count": 45,
   "id": "9ed792e3-8de4-4ab8-93cb-d87ba2103b9c",
   "metadata": {},
   "outputs": [
    {
     "name": "stdout",
     "output_type": "stream",
     "text": [
      "{3, 4}\n",
      "{1, 2}\n"
     ]
    }
   ],
   "source": [
    "#SETS have other methods availaible to them like \n",
    "\n",
    "# Two sets\n",
    "set1 = {1, 2, 3, 4}\n",
    "set2 = {3, 4, 5, 6}\n",
    "\n",
    "result = set1 & set2\n",
    "print(result)  # Output: {3, 4}. The common elements between set1 and set2 are 3 and 4, so {3, 4} is returned\n",
    "\n",
    "result = set1 - set2\n",
    "print(result)  # Output: {1, 2}. The elements in set1 that are not in set2 are 1 and 2, so {1, 2} is returned"
   ]
  },
  {
   "cell_type": "code",
   "execution_count": 46,
   "id": "574b14aa-fde3-48cb-ad19-c485e37d1430",
   "metadata": {},
   "outputs": [],
   "source": [
    "#dictionaries\n",
    "\n",
    "#Yes, you are absolutely correct! When working with dictionaries in Python, curly brackets {} are used to define the dictionary, \n",
    "#and to access the value associated with a specific key, square brackets [] are used\n",
    "\n",
    "# Defining a dictionary\n",
    "my_dict = {\n",
    "    \"name\": \"Alice\",\n",
    "    \"age\": 25,\n",
    "    \"city\": \"New York\"\n",
    "}\n",
    "\n"
   ]
  },
  {
   "cell_type": "code",
   "execution_count": 47,
   "id": "867823d1-d8f1-4657-9836-00cdb43c6ba9",
   "metadata": {},
   "outputs": [
    {
     "name": "stdout",
     "output_type": "stream",
     "text": [
      "Alice\n",
      "25\n",
      "New York\n"
     ]
    }
   ],
   "source": [
    "# Accessing values by key\n",
    "print(my_dict[\"name\"])  # Output: Alice\n",
    "print(my_dict[\"age\"])   # Output: 25\n",
    "print(my_dict[\"city\"])  # Output: New York\n"
   ]
  },
  {
   "cell_type": "code",
   "execution_count": 49,
   "id": "8ad1c5ee-b51b-4947-a514-296c7244ae4d",
   "metadata": {},
   "outputs": [],
   "source": [
    "#dictionaries do not accept duplicate keys. so if a key is duplicated, it would not return an error, it wouold\n",
    "#only pprint out the updtaed value of the assigned key "
   ]
  },
  {
   "cell_type": "code",
   "execution_count": 50,
   "id": "5b22f54c-6f53-4ff7-ad53-dc2eb4f75210",
   "metadata": {},
   "outputs": [
    {
     "name": "stdout",
     "output_type": "stream",
     "text": [
      "Employee ID: 1001\n",
      "Name: John Doe\n",
      "Department: Software Development\n",
      "Position: Software Engineer\n",
      "Salary: $85000\n",
      "\n",
      "Employee ID: 1002\n",
      "Name: Jane Smith\n",
      "Department: Marketing\n",
      "Position: Marketing Manager\n",
      "Salary: $75000\n",
      "\n",
      "Employee ID: 1003\n",
      "Name: Alice Johnson\n",
      "Department: HR\n",
      "Position: HR Specialist\n",
      "Salary: $60000\n",
      "\n"
     ]
    }
   ],
   "source": [
    "# Dictionary with employee IDs as keys\n",
    "employees = {\n",
    "    1001: {\n",
    "        \"name\": \"John Doe\",\n",
    "        \"department\": \"Software Development\",\n",
    "        \"position\": \"Software Engineer\",\n",
    "        \"salary\": 85000\n",
    "    },\n",
    "    1002: {\n",
    "        \"name\": \"Jane Smith\",\n",
    "        \"department\": \"Marketing\",\n",
    "        \"position\": \"Marketing Manager\",\n",
    "        \"salary\": 75000\n",
    "    },\n",
    "    1003: {\n",
    "        \"name\": \"Alice Johnson\",\n",
    "        \"department\": \"HR\",\n",
    "        \"position\": \"HR Specialist\",\n",
    "        \"salary\": 60000\n",
    "    }\n",
    "}\n",
    "\n",
    "# Accessing and displaying information for each employee\n",
    "for emp_id, details in employees.items():\n",
    "    print(f\"Employee ID: {emp_id}\")\n",
    "    print(f\"Name: {details['name']}\")\n",
    "    print(f\"Department: {details['department']}\")\n",
    "    print(f\"Position: {details['position']}\")\n",
    "    print(f\"Salary: ${details['salary']}\")\n",
    "    print()  # Blank line for separation\n"
   ]
  },
  {
   "cell_type": "code",
   "execution_count": 64,
   "id": "1a2f4072-ee8e-445f-9dc4-fded049238b2",
   "metadata": {},
   "outputs": [],
   "source": [
    "#TRY AND EXCEPT BLOCK"
   ]
  },
  {
   "cell_type": "code",
   "execution_count": 51,
   "id": "e6241af4-e2c5-4de6-8c82-18838b750e39",
   "metadata": {},
   "outputs": [
    {
     "name": "stdout",
     "output_type": "stream",
     "text": [
      "You can't divide by zero!\n"
     ]
    }
   ],
   "source": [
    "\n",
    "#The try and except statements are built-in features of Python and are part of the core language. \n",
    "#You can directly use them for handling exceptions without any additional imports.\n",
    "\n",
    "try:\n",
    "    # Code that may cause an exception\n",
    "    result = 10 / 0  # This will raise a ZeroDivisionError\n",
    "except ZeroDivisionError:\n",
    "    # Code to handle the exception\n",
    "    print(\"You can't divide by zero!\")\n"
   ]
  },
  {
   "cell_type": "code",
   "execution_count": 52,
   "id": "56d419f6-5445-479f-99b4-4bcfdbca920f",
   "metadata": {},
   "outputs": [
    {
     "data": {
      "text/plain": [
       "'Basic Structure:\\ntry block: Contains the code that might raise an exception.\\n\\nexcept block: Contains the code to handle the exception if it occurs.\\n\\nYou can catch specific exceptions like ValueError, ZeroDivisionError, IndexError, etc., \\nor you can use a more generic exception handler (e.g., Exception) to catch any unexpected errors.'"
      ]
     },
     "execution_count": 52,
     "metadata": {},
     "output_type": "execute_result"
    }
   ],
   "source": [
    "#You can use Python's built-in exceptions in a try and except block to handle specific errors \n",
    "#that might arise during the execution of your code\n",
    "\n",
    "\"\"\" this is a multi-line comment\n",
    "Basic Structure:\n",
    "try block: Contains the code that might raise an exception.\n",
    "\n",
    "except block: Contains the code to handle the exception if it occurs.\n",
    "\n",
    "You can catch specific exceptions like ValueError, ZeroDivisionError, IndexError, etc., \n",
    "or you can use a more generic exception handler (e.g., Exception) to catch any unexpected errors.\n",
    "\"\"\""
   ]
  },
  {
   "cell_type": "code",
   "execution_count": 56,
   "id": "f3d700b1-ab0f-4b94-928f-1f10ab579da0",
   "metadata": {},
   "outputs": [
    {
     "name": "stdin",
     "output_type": "stream",
     "text": [
      "Enter a number:  5\n"
     ]
    },
    {
     "name": "stdout",
     "output_type": "stream",
     "text": [
      "result of division is : 2.0 \n"
     ]
    }
   ],
   "source": [
    "try:\n",
    "    num = int(input(\"Enter a number: \"))\n",
    "    result = 10 / num  # May raise ZeroDivisionError or ValueError\n",
    "except ValueError:\n",
    "    print(\"Error: That's not a valid number!\")\n",
    "except ZeroDivisionError:\n",
    "    print(\"Error: You can't divide by zero!\")\n",
    "\n",
    "else:\n",
    "    print(f\"result of division is : {result} \")\n"
   ]
  },
  {
   "cell_type": "code",
   "execution_count": 57,
   "id": "e66d63d2-9fef-4e09-adcc-d1c81fc40770",
   "metadata": {},
   "outputs": [
    {
     "name": "stdout",
     "output_type": "stream",
     "text": [
      "An error occurred: division by zero\n"
     ]
    }
   ],
   "source": [
    "#Catching Any Exception with Exception.  This is useful if you want to catch any unforeseen error and handle it.\n",
    "\n",
    "try:\n",
    "    result = 10 / 0  # Raises ZeroDivisionError\n",
    "except Exception as e:\n",
    "    print(f\"An error occurred: {e}\")"
   ]
  },
  {
   "cell_type": "code",
   "execution_count": 63,
   "id": "758b9e9d-a184-4291-b9ec-f16e8d2dad51",
   "metadata": {},
   "outputs": [],
   "source": [
    "#FILE HANDLING "
   ]
  },
  {
   "cell_type": "code",
   "execution_count": null,
   "id": "2f2be5bf-44fe-49ea-b1ab-2e45ff3922f4",
   "metadata": {},
   "outputs": [],
   "source": [
    "\n",
    "#why is file handling necessary in python. its usefulness\n",
    "\n",
    "\"\"\"\n",
    "1. Persistent Data Storage:\n",
    "Why it matters: In real-world applications, you often need to save data between sessions. Without file handling, \n",
    "all data would be lost as soon as the program stops running.\n",
    "\n",
    "How it works: File handling allows you to write information (like user inputs, logs, or configuration settings)\n",
    "to files on the disk, so the data persists beyond the program's runtime.\n",
    "\n",
    "2.Interacting with External Systems:\n",
    "\n",
    "Why it matters: Many real-world systems interact with data stored in files (such as CSV files, text files, or even JSON and XML).\n",
    "Your Python program may need to read data from these files, process it, and possibly save the results back into a file.\n",
    "\n",
    "How it works: Python's file handling lets you interface with these files and perform necessary operations such as reading,\n",
    "writing, appending, and modifying file contents\"\"\""
   ]
  },
  {
   "cell_type": "code",
   "execution_count": null,
   "id": "957a141d-d6f2-42fa-a5ae-09385add5f64",
   "metadata": {},
   "outputs": [],
   "source": [
    "# this is a multi - line comment\n",
    "\n",
    "#Opening a File:\n",
    "\"\"\"\n",
    "The open() function is used to open a file. It requires at least one argument — the name of the file — \n",
    "and optionally, a mode to specify what operation you want to perform on the file.\n",
    "\n",
    "Modes:\n",
    "'r': Read (default). Opens the file for reading.\n",
    "\n",
    "'w': Write. Opens the file for writing (creates a new file or overwrites an existing one).\n",
    "\n",
    "'a': Append. Opens the file for appending (creates a new file if it doesn't exist).\n",
    "\n",
    "'x': Exclusive creation. Creates a new file, but raises an error if the file already exists.\n",
    "\n",
    "'b': Binary mode (used in combination with other modes). Opens the file in binary mode (e.g., 'rb' for reading binary files).\n",
    "\n",
    "'t': Text mode (default). Opens the file in text mode (e.g., 'rt' for reading text files).\n",
    "\n",
    "\"\"\""
   ]
  },
  {
   "cell_type": "code",
   "execution_count": null,
   "id": "9e390bfa-8639-49c8-baad-e5a336d8a90b",
   "metadata": {},
   "outputs": [],
   "source": [
    "\"\"\"A binary file is a file that contains data in a format that is not human-readable, \n",
    "unlike text files which store data in a readable format (like plain text). \n",
    "Binary files store information in the form of binary data (i.e., a series of 1s and 0s) \n",
    "and can represent different types of data like images, videos, audio files, executables, etc.\n",
    "\n",
    "Key Characteristics of Binary Files:\n",
    "Non-Text Data: Unlike text files (which store data as readable characters), \n",
    "binary files contain data in a format that must be interpreted in a specific way, depending on the type of file.\n",
    "\n",
    "Efficient Storage: Binary files often use less storage space compared to text files for the same information. \n",
    "This is because the data is stored in its raw form rather than being encoded into human-readable characters.\n",
    "\n",
    "File Format: Different types of binary files have specific formats, such as .jpg for images, .mp4 for videos, \n",
    ".exe for executables, and .mp3 for audio. Each format has its own structure for how data is stored within the file.\"\"\""
   ]
  },
  {
   "cell_type": "code",
   "execution_count": null,
   "id": "6d684d8a-0cf2-4778-bb58-85b0274e57c9",
   "metadata": {},
   "outputs": [],
   "source": [
    "# Opening a file in read mode ('r')\n",
    "file_path = \"C:\\\\path\\\\to\\\\your\\\\file.txt\"  # Specify your file path\n",
    "\n",
    "with open(file_path, 'r') as file:\n",
    "    content = file.read()  # Read the entire content of the file\n",
    "    print(content)\n",
    "\n",
    "\n",
    "#the above code would raise an error\n",
    "#FileNotFoundError: [Errno 2] No such file or directory: 'C:\\\\path\\\\to\\\\your\\\\file.txt'\n",
    "#this is becuase no such file exist in the given file path."
   ]
  },
  {
   "cell_type": "code",
   "execution_count": null,
   "id": "6d484655-5476-475d-83dd-85bc6289698a",
   "metadata": {},
   "outputs": [],
   "source": [
    "#Step-by-Step Explanation of the above code\n",
    "\"\"\"\n",
    "1. File Path Specification: The file path is specified as a string, using double backslashes (\\\\) to escape the backslash characters.\n",
    "2. Opening the File: The open() function is used to open the file in read mode ('r').\n",
    "3. Reading the Content: The read() method is used to read the entire content of the file into a string variable named content.\n",
    "4. Printing the Content: The print() function is used to print the contents of the file to the console.\"\"\"\n"
   ]
  },
  {
   "cell_type": "code",
   "execution_count": 68,
   "id": "48e6729c-d813-4d32-a29c-01b9d2e5aef8",
   "metadata": {},
   "outputs": [],
   "source": [
    "file_path = \"C:\\\\Users\\\\HP\\\\Desktop\\\\CAP stone\\\\file handling\\\\book1.txt\"  # Corrected file path\n",
    "\n",
    "with open(file_path, 'w') as file:\n",
    "    file.write(\"This is a new line of text.\")  # Write to the file"
   ]
  },
  {
   "cell_type": "code",
   "execution_count": 69,
   "id": "bd94b78d-1c54-4526-9444-5038827ed2f3",
   "metadata": {},
   "outputs": [],
   "source": [
    "#for the above, since it was a new file, i needed to write the name book.txt on the path, if not, it woukld continue to trow an error\n",
    "#which actually makes sense, since you cant create a file without a file name and file type"
   ]
  },
  {
   "cell_type": "code",
   "execution_count": 78,
   "id": "14f0751a-aad4-4220-884a-06badd5fcdc9",
   "metadata": {},
   "outputs": [],
   "source": [
    "file_path = \"C:\\\\Users\\\\HP\\\\Desktop\\\\CAP stone\\\\file handling\\\\book1.txt\"  # Corrected file path\n",
    "\n",
    "with open(file_path, 'a') as file:\n",
    "    file.write(\"God is good!\")\n",
    "\n",
    "# Append the next line\n",
    "with open(file_path, 'a') as file:\n",
    "    file.write(\"we good!\\n\")  # Appends and moves to a new line\n",
    "\n",
    "# Append the second line on a new line\n",
    "with open(file_path, 'a') as file:\n",
    "    file.write(\"another line here!\\n\")  # This will be written on a new line"
   ]
  },
  {
   "cell_type": "code",
   "execution_count": 61,
   "id": "4efb92ea-8f77-4f81-9945-356b09e97695",
   "metadata": {},
   "outputs": [],
   "source": [
    "#ADVANTAGES OF USING with open\n",
    "\n",
    "\"\"\"\n",
    "The with open() statement in Python provides several advantages over manually opening and closing files. Here’s why it's beneficial:\n",
    "\n",
    "1. Automatic File Closing:\n",
    "Advantage: The with open() statement automatically closes the file once the block of code is executed, \n",
    "even if an error occurs within the block.\n",
    "\n",
    "Why it's useful: It ensures that resources (like file handles) are properly released, preventing file locks or resource leaks.\"\"\""
   ]
  },
  {
   "cell_type": "code",
   "execution_count": null,
   "id": "40567510-bbac-486b-b5bf-5ef2d8bbeb18",
   "metadata": {},
   "outputs": [],
   "source": [
    "with open('example.txt', 'r') as file:\n",
    "    content = file.read()\n",
    "# No need to manually call file.close(), it is automatically done when the block ends.\n",
    "#In contrast, when you use open() without with, you have to manually call file.close(), \n",
    "#which can be forgotten and lead to issues like leaving the file open."
   ]
  },
  {
   "cell_type": "code",
   "execution_count": 79,
   "id": "cbf99912-0de1-4c6a-a5ad-068a4a1ca3b8",
   "metadata": {},
   "outputs": [],
   "source": [
    "#Common File Handling Operations:\n",
    "#file.read(): Reads the entire file into a string.\n",
    "\n",
    "#file.readline(): Reads one line from the file.\n",
    "\n",
    "#file.readlines(): Reads all lines into a list.\n",
    "\n",
    "#file.write(): Writes a string to the file.\n",
    "\n",
    "#file.writelines(): Writes a list of strings to the file.\n",
    "\n"
   ]
  },
  {
   "cell_type": "code",
   "execution_count": 82,
   "id": "0a3d95df-6564-45e0-8b20-67a87c011816",
   "metadata": {},
   "outputs": [
    {
     "name": "stdout",
     "output_type": "stream",
     "text": [
      "['This is a new line of text.we good!we good!we good!we good!\\n', 'we good!we good!\\n', 'another line here!\\n', 'God is good!we good!\\n', 'another line here!\\n', 'Line 1: we good!\\n', 'Line 2: still good!\\n', 'Line 3: all good!\\n', 'Line 1: we good!\\n', 'Line 2: still good!\\n', 'Line 3: all good!\\n']\n"
     ]
    }
   ],
   "source": [
    "file_path = \"C:\\\\Users\\\\HP\\\\Desktop\\\\CAP stone\\\\file handling\\\\book1.txt\"\n",
    "\n",
    "with open(file_path, 'r') as file:\n",
    "    lines = file.readlines()\n",
    "\n",
    "print(lines)"
   ]
  },
  {
   "cell_type": "code",
   "execution_count": 83,
   "id": "86c00fa0-3106-43e5-8613-0639ad3ca504",
   "metadata": {},
   "outputs": [],
   "source": [
    "# the above code reads every line in the text file and inputs it in python list, \n",
    "#each line in the txt file is a singular element in the created list"
   ]
  },
  {
   "cell_type": "code",
   "execution_count": 84,
   "id": "6c48016e-55df-4cfc-91ca-85dd8d53c16e",
   "metadata": {},
   "outputs": [],
   "source": [
    "file_path = \"C:\\\\Users\\\\HP\\\\Desktop\\\\CAP stone\\\\file handling\\\\book1.txt\"\n",
    "\n",
    "# Open in write mode to clear the file\n",
    "with open(file_path, 'w') as file:\n",
    "    file.truncate()  # Optional: truncates content (w mode already does this)"
   ]
  },
  {
   "cell_type": "code",
   "execution_count": null,
   "id": "0fdd0015-f5dc-4fd0-8fa0-2d33564d8758",
   "metadata": {},
   "outputs": [],
   "source": [
    "#it is SUPER DANGEROUS TO OPEN A FILE IN WRITE MODE ('w')\n",
    "#if the file already existed, it will overwrite it contents, deleting every single item on the document.\n",
    "\n",
    "    #CONCLUSION\n",
    "#Using 'a' (append mode) is much safer than 'w' (write mode) \n",
    "#if you’re trying to avoid accidentally deleting the existing content of a file."
   ]
  },
  {
   "cell_type": "code",
   "execution_count": 85,
   "id": "724ea305-f526-49f2-99c9-c9d80b3136f5",
   "metadata": {},
   "outputs": [],
   "source": [
    "#example of using \\n which is a newline character\n",
    "\n",
    "file_path = \"C:\\\\Users\\\\HP\\\\Desktop\\\\CAP stone\\\\file handling\\\\book1.txt\"\n",
    "\n",
    "with open(file_path, 'a') as file:\n",
    "    file.write(\"Line 1: we good!\\n\")\n",
    "    file.write(\"Line 2: still good!\\n\")\n",
    "    file.write(\"Line 3: all good!\\n\")"
   ]
  },
  {
   "cell_type": "code",
   "execution_count": null,
   "id": "b4d46e8c-4ccc-4189-a23b-051df6e5894e",
   "metadata": {},
   "outputs": [],
   "source": []
  }
 ],
 "metadata": {
  "kernelspec": {
   "display_name": "Python 3 (ipykernel)",
   "language": "python",
   "name": "python3"
  },
  "language_info": {
   "codemirror_mode": {
    "name": "ipython",
    "version": 3
   },
   "file_extension": ".py",
   "mimetype": "text/x-python",
   "name": "python",
   "nbconvert_exporter": "python",
   "pygments_lexer": "ipython3",
   "version": "3.12.8"
  }
 },
 "nbformat": 4,
 "nbformat_minor": 5
}
