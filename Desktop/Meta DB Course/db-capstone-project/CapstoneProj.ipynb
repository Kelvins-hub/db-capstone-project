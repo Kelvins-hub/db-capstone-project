{
 "cells": [
  {
   "cell_type": "code",
   "execution_count": null,
   "id": "b20d4137-06e5-49be-9912-f6da75ae5c87",
   "metadata": {},
   "outputs": [],
   "source": [
    "#step 1 import connection module"
   ]
  },
  {
   "cell_type": "code",
   "execution_count": 1,
   "id": "20b2e460-9b82-4f01-90e0-cfb05421f09c",
   "metadata": {},
   "outputs": [],
   "source": [
    "import mysql.connector "
   ]
  },
  {
   "cell_type": "code",
   "execution_count": null,
   "id": "50d4d12a-bcb5-4887-ba6b-29523860ad41",
   "metadata": {},
   "outputs": [],
   "source": [
    "#step 2 create a connection to a db in my local workbench"
   ]
  },
  {
   "cell_type": "code",
   "execution_count": 7,
   "id": "18d5c50d-4a57-4026-bf8b-d67c226603e1",
   "metadata": {},
   "outputs": [
    {
     "name": "stdout",
     "output_type": "stream",
     "text": [
      "Connected to MySQL successfully!\n"
     ]
    }
   ],
   "source": [
    "connection = mysql.connector.connect(\n",
    "    user = \"root\", \n",
    "    password = \"Qwerty12345\",\n",
    "    database = \"littlelemondm\")\n",
    "\n",
    "if connection.is_connected():\n",
    "    print(\"Connected to MySQL successfully!\")"
   ]
  },
  {
   "cell_type": "code",
   "execution_count": null,
   "id": "09cbebaf-fff7-48ee-9975-41dc7e3a9822",
   "metadata": {},
   "outputs": [],
   "source": [
    "#step 3 create a cusor object to which am going to pass the execute method to"
   ]
  },
  {
   "cell_type": "code",
   "execution_count": 8,
   "id": "8eca422c-52a9-48b5-b67f-b686765ae581",
   "metadata": {},
   "outputs": [],
   "source": [
    "cursor = connection.cursor()"
   ]
  },
  {
   "cell_type": "code",
   "execution_count": null,
   "id": "164fde9d-fdc4-43b6-8dd7-158371107bb7",
   "metadata": {},
   "outputs": [],
   "source": [
    "#step 4 now use the created cursor to execute task"
   ]
  },
  {
   "cell_type": "code",
   "execution_count": 10,
   "id": "9c72aa63-a371-4959-86d9-77a06914b3be",
   "metadata": {},
   "outputs": [],
   "source": [
    "show_tables_query = \"SHOW tables\" \n",
    "\n",
    "cursor.execute(show_tables_query)"
   ]
  },
  {
   "cell_type": "code",
   "execution_count": 11,
   "id": "df98ba4c-024d-443d-925e-3ff9b0f0d213",
   "metadata": {},
   "outputs": [],
   "source": [
    "#still under step 4. time to fetch the results into a variable and print the content of the varaible"
   ]
  },
  {
   "cell_type": "code",
   "execution_count": 12,
   "id": "4cc1fc4a-56de-4b67-a2b3-242cc2fe69b4",
   "metadata": {},
   "outputs": [],
   "source": [
    "results= cursor.fetchall()"
   ]
  },
  {
   "cell_type": "code",
   "execution_count": 13,
   "id": "1781f2c9-20dd-4aae-948d-790fe287b98d",
   "metadata": {},
   "outputs": [
    {
     "name": "stdout",
     "output_type": "stream",
     "text": [
      "('bookings',)\n",
      "('customers',)\n",
      "('menu',)\n",
      "('order_delivery_status',)\n",
      "('orders',)\n",
      "('ordersview',)\n",
      "('staff_info',)\n"
     ]
    }
   ],
   "source": [
    "for result in results:\n",
    "    print (result)"
   ]
  },
  {
   "cell_type": "code",
   "execution_count": null,
   "id": "3e68034c-2953-4c91-875e-e1597f85d7e4",
   "metadata": {},
   "outputs": [],
   "source": [
    "# beautiful. you have done well. time to progress with other queries"
   ]
  },
  {
   "cell_type": "code",
   "execution_count": 18,
   "id": "d493ff53-e39f-4cc0-b0b1-c57639b4251f",
   "metadata": {},
   "outputs": [],
   "source": [
    "sql_Query_to_join_tables = \"\"\"\n",
    "select \n",
    "c.CustomerName AS FullName, \n",
    "c. Contact_Details,\n",
    "o.TotalCost \n",
    "FROM Customers AS c\n",
    "join Orders as O\n",
    "ON c.CustomerID = o.CustomerID\n",
    "where o.TotalCost > 60\n",
    "\"\"\"\n",
    "\n"
   ]
  },
  {
   "cell_type": "code",
   "execution_count": 20,
   "id": "46974c2e-f504-441a-8450-e6d126f2fc66",
   "metadata": {},
   "outputs": [],
   "source": [
    "cursor.execute (sql_Query_to_join_tables)"
   ]
  },
  {
   "cell_type": "code",
   "execution_count": 21,
   "id": "71be1b0b-d551-440b-a4e5-bb4fc04c1993",
   "metadata": {},
   "outputs": [],
   "source": [
    "results_of_join = cursor.fetchall()"
   ]
  },
  {
   "cell_type": "code",
   "execution_count": 22,
   "id": "d873c256-fe5e-470e-bdbc-38e24feda895",
   "metadata": {},
   "outputs": [],
   "source": [
    "for results in results_of_join:\n",
    "    print (result)"
   ]
  },
  {
   "cell_type": "code",
   "execution_count": null,
   "id": "6c8549fe-7f8f-4534-8b47-8a659555589a",
   "metadata": {},
   "outputs": [],
   "source": [
    "#no results was printed apparently because there is no data in the customer table"
   ]
  },
  {
   "cell_type": "code",
   "execution_count": null,
   "id": "8eb50b94-ecd1-4027-a559-d875b8b93372",
   "metadata": {},
   "outputs": [],
   "source": []
  }
 ],
 "metadata": {
  "kernelspec": {
   "display_name": "Python 3 (ipykernel)",
   "language": "python",
   "name": "python3"
  },
  "language_info": {
   "codemirror_mode": {
    "name": "ipython",
    "version": 3
   },
   "file_extension": ".py",
   "mimetype": "text/x-python",
   "name": "python",
   "nbconvert_exporter": "python",
   "pygments_lexer": "ipython3",
   "version": "3.12.8"
  }
 },
 "nbformat": 4,
 "nbformat_minor": 5
}
