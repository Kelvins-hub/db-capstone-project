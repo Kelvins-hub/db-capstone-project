{
 "cells": [
  {
   "cell_type": "code",
   "execution_count": 1,
   "id": "676fdb4e-0451-48d0-95e7-b7884eb39fb6",
   "metadata": {},
   "outputs": [],
   "source": [
    "#connection pooling"
   ]
  },
  {
   "cell_type": "code",
   "execution_count": 2,
   "id": "e2bad32e-8a78-4d2c-811e-83d2d478fbc4",
   "metadata": {},
   "outputs": [],
   "source": [
    "#we would compare trying to connect to a db.......via regular connection vs connection pooling"
   ]
  },
  {
   "cell_type": "code",
   "execution_count": null,
   "id": "0fedb6ee-4a0c-4c49-8e01-4366f140bcb3",
   "metadata": {},
   "outputs": [],
   "source": [
    "#this is the regular connection attempt\n",
    "\"\"\"connection = mysql.connector.connect(\n",
    "    user = \"root\", \n",
    "    password = \"Qwerty12345\",#Username and Password are used to authenticate your access to the MySQL server\n",
    "    database = \"little_lee_dm\") #its NOT compulsory to choose the EXACT DB at this point\n",
    "\n",
    "#mysql.connector.connect() is used to establish a connection between your Python script and the MySQL DB.\n",
    "\n",
    "if connection.is_connected(): #The is_connected() method is used to check if the connection to the MySQL server is still active.\n",
    "    print(\"Connected to MySQL successfully!\")\"\"\" "
   ]
  },
  {
   "cell_type": "code",
   "execution_count": 4,
   "id": "0d0b4349-5a43-49ca-b629-174180d2b24c",
   "metadata": {},
   "outputs": [],
   "source": [
    "#what are the downsides of using this menthod"
   ]
  },
  {
   "cell_type": "code",
   "execution_count": null,
   "id": "1445f202-1736-42de-b711-ac0a024fab43",
   "metadata": {},
   "outputs": [],
   "source": [
    "\"\"\"This creates a new connection to the database each time you run it. Here’s what that means:\n",
    "\n",
    "A new TCP/IP connection is opened to MySQL every time the script runs.\n",
    "\n",
    "If your application makes many requests or opens multiple connections (like in a web app), this approach can:\n",
    "\n",
    "Be slow, because establishing a new connection is resource-intensive.\n",
    "\n",
    "Overwhelm the MySQL server with too many simultaneous connections.\n",
    "\n",
    "Not reuse connections — each one is created and destroyed separately\"\"\""
   ]
  },
  {
   "cell_type": "code",
   "execution_count": 6,
   "id": "69cb6d4f-1411-4ed6-82c9-d87b4caf2b0f",
   "metadata": {},
   "outputs": [],
   "source": [
    "#🔁 Connection Pooling\n",
    "\n",
    "#Connection pooling, by contrast, creates a pool of reusable connections ahead of time. \n",
    "#Instead of opening a new connection every time, your app borrows a connection from the pool and returns it when done\n",
    "#when an old connection exist the pool, the connection is open to others who want to join the pool\n",
    "#when the numbers of connection in a pool is exhuasted no new connection can be established\n",
    "#Its better to have multiple pools \n",
    "#the best approach is to create multiple pool with a specific number of connection assigned to each pool "
   ]
  },
  {
   "cell_type": "code",
   "execution_count": 8,
   "id": "a3617d0d-7c93-47a8-ac1d-c9bd5d4f42ef",
   "metadata": {},
   "outputs": [],
   "source": [
    "#✅ Benefits of Connection Pooling\n",
    "#Faster: No need to reconnect repeatedly.\n",
    "\n",
    "#Efficient: Reuses open connections.\n",
    "\n",
    "#Scalable: Ideal for high-load apps (web servers, APIs, etc.).\n",
    "\n",
    "#Resource management: Limits the number of simultaneous open connections."
   ]
  },
  {
   "cell_type": "code",
   "execution_count": null,
   "id": "b95c6210-c551-41f5-8faf-69faade2599c",
   "metadata": {},
   "outputs": [],
   "source": [
    "#Using mysql.connector.pooling:\n",
    "\n",
    "\"\"\"from mysql.connector import pooling\n",
    "\n",
    "dbconfig = {\n",
    "    \"user\": \"root\",\n",
    "    \"password\": \"Qwerty12345\",\n",
    "    \"database\": \"little_lee_dm\"\n",
    "}\n",
    "\n",
    "pool = pooling.MySQLConnectionPool(\n",
    "    pool_name=\"mypool\",\n",
    "    pool_size=5,  \n",
    "    **dbconfig\n",
    ")\n",
    "\n",
    "connection = pool.get_connection()\"\"\""
   ]
  },
  {
   "cell_type": "code",
   "execution_count": null,
   "id": "acaa9c83-45c8-470b-9ff9-91903d2f3b6f",
   "metadata": {},
   "outputs": [],
   "source": [
    "#What is dbconfig?\n",
    "#dbconfig is just a Python dictionary that holds the database connection parameters like:\n",
    "\"\"\"dbconfig = {\n",
    "    \"user\": \"root\",\n",
    "    \"password\": \"Qwerty12345\",\n",
    "    \"database\": \"little_lee_dm\"\n",
    "}\"\"\"\n",
    "#Instead of passing each parameter directly into MySQLConnectionPool(...) like this:\n",
    "#MySQLConnectionPool(user=\"root\", password=\"Qwerty12345\", database=\"little_lee_dm\")\n",
    "#This makes the code Cleaner and easier to manage\n"
   ]
  },
  {
   "cell_type": "code",
   "execution_count": null,
   "id": "19c98ce8-e0ee-4cb8-a972-5d6b1a156c9b",
   "metadata": {},
   "outputs": [],
   "source": [
    "\"\"\"pool = pooling.MySQLConnectionPool(    #Creates a connection pool named mypool\n",
    "    pool_name=\"mypool\", #Creates a connection pool named mypool.\n",
    "    pool_size=5, #Sets the pool size to 5, meaning up to 5 connections can be maintained simultaneously\n",
    "    **dbconfig) #Passes database configuration details like host, username, password, database name, etc.\n",
    "    \"\"\""
   ]
  },
  {
   "cell_type": "code",
   "execution_count": 13,
   "id": "f280c46d-e90e-43d0-a4cf-a428f1bb7341",
   "metadata": {},
   "outputs": [],
   "source": [
    "#connection = pool.get_connection()\n",
    "#it pulls an available connection from the pool instead of creating a new one.\n"
   ]
  },
  {
   "cell_type": "code",
   "execution_count": 14,
   "id": "5fe7ea1e-56d1-4abd-b8ad-d70cf483b6c1",
   "metadata": {},
   "outputs": [
    {
     "name": "stdout",
     "output_type": "stream",
     "text": [
      "(1, datetime.date(2022, 10, 10), 5, None, None)\n",
      "(2, datetime.date(2022, 11, 12), 3, None, None)\n",
      "(3, datetime.date(2022, 10, 11), 2, None, None)\n",
      "(4, datetime.date(2022, 10, 13), 2, None, None)\n"
     ]
    }
   ],
   "source": [
    "#The default pool_size is 5 if not explicitly set\n",
    "from mysql.connector import pooling\n",
    "\n",
    "dbconfig = {\n",
    "    \"host\": \"localhost\",\n",
    "    \"user\": \"root\",\n",
    "    \"password\": \"Qwerty12345\",\n",
    "    \"database\": \"little_lee_dm\"\n",
    "}\n",
    "\n",
    "# Connection pool without specifying pool_size (defaults to 5)\n",
    "pool = pooling.MySQLConnectionPool(\n",
    "    pool_name=\"mypool\", \n",
    "    **dbconfig)\n",
    "\n",
    "# Retrieve a connection from the pool\n",
    "conn = pool.get_connection()\n",
    "cursor = conn.cursor()\n",
    "\n",
    "cursor.execute(\"SELECT * FROM Bookings\")\n",
    "rows = cursor.fetchall()\n",
    "\n",
    "for row in rows:\n",
    "    print(row)\n",
    "\n",
    "# Close cursor and return connection to the pool\n",
    "cursor.close()\n",
    "conn.close()\n"
   ]
  },
  {
   "cell_type": "code",
   "execution_count": 24,
   "id": "628d8005-10d2-4d2e-991d-d387d9587215",
   "metadata": {},
   "outputs": [],
   "source": [
    "from mysql.connector.pooling import MySQLConnectionPool"
   ]
  },
  {
   "cell_type": "code",
   "execution_count": 43,
   "id": "f6a89ee2-c33d-4a4d-bd74-e1d62b06df10",
   "metadata": {},
   "outputs": [
    {
     "name": "stdout",
     "output_type": "stream",
     "text": [
      "Got connection for pool-1: <mysql.connector.pooling.PooledMySQLConnection object at 0x0000011B48128470>\n"
     ]
    }
   ],
   "source": [
    "# Setup\n",
    "dbconfig = {\"user\": \"root\", \"password\": \"Qwerty12345\", \"database\": \"globalstores_final\"}\n",
    "\n",
    "# Create three pools\n",
    "pool1 = MySQLConnectionPool(pool_name=\"main_pool\", pool_size=3, ** dbconfig )\n",
    "pool2 = MySQLConnectionPool(pool_name=\"backup_pool\", ** dbconfig)  # uses default size\n",
    "pool3 = MySQLConnectionPool(pool_name=\"Aux_pool\", pool_size=10, ** dbconfig) #can create upto 32 connections for a single pool\n",
    "\n",
    "# Use connections\n",
    "conn = pool1.get_connection()\n",
    "print(\"Got connection for pool-1:\", conn)\n",
    "\n",
    "# Return it\n",
    "#pool1.return_connection(conn)\n",
    "\n",
    "# Show all pools (class method)\n",
    "#SimpleConnectionPool.show_all_pools() -- this function is not available to mysql but is available to postgreSQL\n"
   ]
  },
  {
   "cell_type": "code",
   "execution_count": null,
   "id": "e7103138-8103-43c7-a176-33fdb7ca3b4f",
   "metadata": {},
   "outputs": [],
   "source": [
    "conn.close()  # Releases the connection back to the pool\n"
   ]
  },
  {
   "cell_type": "code",
   "execution_count": 46,
   "id": "10d6d1bd-c6e5-4441-9c10-48cabdd05a34",
   "metadata": {},
   "outputs": [],
   "source": [
    "#MySQLConnectionPool is the class — it defines how all pools behave"
   ]
  },
  {
   "cell_type": "code",
   "execution_count": 47,
   "id": "949879cf-63e9-410a-9145-92af17fa1715",
   "metadata": {},
   "outputs": [],
   "source": [
    "#pool1, pool2 and pool3 are instance of the MySQLConnectionPool class\n"
   ]
  },
  {
   "cell_type": "code",
   "execution_count": null,
   "id": "bfbd3137-4707-48ac-a721-3c59a7ce359b",
   "metadata": {},
   "outputs": [],
   "source": [
    "\n",
    "#pool.get_connection()\t   Instance method\n",
    "#pool.close()\t           Instance method\n",
    "#conn.is_connected()        Instance method"
   ]
  },
  {
   "cell_type": "code",
   "execution_count": 48,
   "id": "b6535c81-eb3b-43ab-be72-244b020c5420",
   "metadata": {},
   "outputs": [],
   "source": [
    "#Assuming we are starting afresh...lest create get a connection from pool2 and shift all booking slots in the bookings table of \n",
    "#of globalstores_final database by 2 hours due to scheduling conflits. we would add a new column named new_booking slot\n",
    "#and rename the booking slot as old_booking slot"
   ]
  },
  {
   "cell_type": "code",
   "execution_count": null,
   "id": "179f9c6b-8149-4e5e-a10e-4c0d706a833e",
   "metadata": {},
   "outputs": [],
   "source": [
    "#peusocode\n",
    "#establish a connection with the db\n",
    "#rename the existing bookingslot column in the booking table to old_bookingslot\n",
    "#create a new column name it new_bookingslot and add make the column to be + 2hrs of old_column\n"
   ]
  },
  {
   "cell_type": "code",
   "execution_count": 49,
   "id": "0b29b001-ad55-4e53-9406-51cae26aeff2",
   "metadata": {},
   "outputs": [],
   "source": [
    "from mysql.connector import pooling"
   ]
  },
  {
   "cell_type": "code",
   "execution_count": 50,
   "id": "f0197e29-91d7-4963-97ed-4e05344f7932",
   "metadata": {},
   "outputs": [],
   "source": [
    "# Setup\n",
    "dbconfig = {\"user\": \"root\", \"password\": \"Qwerty12345\", \"database\": \"globalstores_final\"}\n",
    "\n",
    "# Create three pools\n",
    "pool1 = MySQLConnectionPool(pool_name=\"main_pool\", pool_size=3, ** dbconfig )\n",
    "pool2 = MySQLConnectionPool(pool_name=\"backup_pool\", ** dbconfig)  # uses default size\n",
    "pool3 = MySQLConnectionPool(pool_name=\"Aux_pool\", pool_size=10, ** dbconfig)"
   ]
  },
  {
   "cell_type": "code",
   "execution_count": 52,
   "id": "4275cde9-7128-4cb3-9d7f-057f57814db6",
   "metadata": {},
   "outputs": [
    {
     "name": "stdout",
     "output_type": "stream",
     "text": [
      "Got connection for pool-2: <mysql.connector.pooling.PooledMySQLConnection object at 0x0000011B48185AC0>\n"
     ]
    }
   ],
   "source": [
    "#lets get connection from pool2\n",
    "# Use connections\n",
    "connection = pool2.get_connection()\n",
    "print(\"Got connection for pool-2:\", connection )"
   ]
  },
  {
   "cell_type": "code",
   "execution_count": 59,
   "id": "5d3ad6e3-165c-43b9-ab66-9d6fd794afd4",
   "metadata": {},
   "outputs": [
    {
     "data": {
      "text/plain": [
       "True"
      ]
     },
     "execution_count": 59,
     "metadata": {},
     "output_type": "execute_result"
    }
   ],
   "source": [
    "#just to double check if the pool was connected\n",
    "connection.is_connected()"
   ]
  },
  {
   "cell_type": "code",
   "execution_count": 62,
   "id": "7e32a0c4-885c-4212-8c7e-73644ae7ccdc",
   "metadata": {},
   "outputs": [],
   "source": [
    "#lets create a cursor\n",
    "kev_cursor = connection.cursor()"
   ]
  },
  {
   "cell_type": "code",
   "execution_count": 65,
   "id": "6e901821-d12a-41be-9eb6-6711a815ef09",
   "metadata": {},
   "outputs": [
    {
     "name": "stdout",
     "output_type": "stream",
     "text": [
      "(4, datetime.date(2022, 10, 13), 2, None, None)\n",
      "(4, datetime.date(2022, 10, 13), 2, None, None)\n",
      "(4, datetime.date(2022, 10, 13), 2, None, None)\n",
      "(4, datetime.date(2022, 10, 13), 2, None, None)\n",
      "(4, datetime.date(2022, 10, 13), 2, None, None)\n"
     ]
    }
   ],
   "source": [
    "#first lets confirm we are in the right place\n",
    "kev_cursor.execute(\"select * from Bookings\")\n",
    "\n",
    "db_tables = kev_cursor.fetchall()\n",
    "\n",
    "for rows in db_tables:\n",
    "    print (row)\n",
    "\n",
    "#good...we good to go"
   ]
  },
  {
   "cell_type": "code",
   "execution_count": 72,
   "id": "c30cd524-b9e5-4eb7-a2ce-b93301958d1d",
   "metadata": {},
   "outputs": [],
   "source": [
    "# now using the already created cursor\n",
    "# 1. Rename the existing column\n",
    "kev_cursor.execute(\"ALTER TABLE bookings RENAME COLUMN bookingslot TO old_bookingslot\")\n",
    "\n",
    "# 2. Add a new column for new bookingslot\n",
    "kev_cursor.execute(\"ALTER TABLE bookings ADD COLUMN new_bookingslot DATETIME\")\n",
    "\n",
    "# 3. Update new_bookingslot to be old_bookingslot + 2 hours\n",
    "kev_cursor.execute(\"\"\"\n",
    "            UPDATE Bookings \n",
    "            SET new_bookingslot = DATE_ADD(old_bookingslot, INTERVAL 2 HOUR);\n",
    "        \"\"\")\n"
   ]
  },
  {
   "cell_type": "code",
   "execution_count": 73,
   "id": "5a441d1a-f0c3-4344-aa88-344f75b22aeb",
   "metadata": {},
   "outputs": [
    {
     "name": "stdout",
     "output_type": "stream",
     "text": [
      "Booking slots updated successfully!\n"
     ]
    }
   ],
   "source": [
    "    # 4. Commit the changes\n",
    "connection.commit()\n",
    "print(\"Booking slots updated successfully!\") # this line is not relevant, becuase whether the code works of not, it will run"
   ]
  },
  {
   "cell_type": "code",
   "execution_count": null,
   "id": "05587690-acfe-4742-8ae7-86c4f0d51999",
   "metadata": {},
   "outputs": [],
   "source": [
    "#Anyway...it worked perfectly. The info, is as desired in the DB\n",
    "#on the fine note, we end our review note review."
   ]
  }
 ],
 "metadata": {
  "kernelspec": {
   "display_name": "Python 3 (ipykernel)",
   "language": "python",
   "name": "python3"
  },
  "language_info": {
   "codemirror_mode": {
    "name": "ipython",
    "version": 3
   },
   "file_extension": ".py",
   "mimetype": "text/x-python",
   "name": "python",
   "nbconvert_exporter": "python",
   "pygments_lexer": "ipython3",
   "version": "3.12.8"
  }
 },
 "nbformat": 4,
 "nbformat_minor": 5
}
