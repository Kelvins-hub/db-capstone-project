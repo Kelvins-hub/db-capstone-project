{
 "cells": [
  {
   "cell_type": "code",
   "execution_count": 1,
   "id": "ab846cd9-07d5-4e5c-b5b6-dc8c73a607a5",
   "metadata": {},
   "outputs": [],
   "source": [
    "#database client note"
   ]
  },
  {
   "cell_type": "code",
   "execution_count": 2,
   "id": "ed9bdad8-d2f4-4887-aaa8-1f6839fd8224",
   "metadata": {},
   "outputs": [],
   "source": [
    "#A database client connects the database to a user or an application."
   ]
  },
  {
   "cell_type": "code",
   "execution_count": null,
   "id": "98718ee5-8bbc-47dd-a6ee-afb60c16457d",
   "metadata": {},
   "outputs": [],
   "source": [
    "\"\"\"If you're a person (like a developer or data analyst), the client connects you to the database \n",
    "so you can type queries and get data.\n",
    "\n",
    "If it's an application (like a website, an app, or a script), the client connects the application \n",
    "to the database so the app can read, write, or update data automatically.\n",
    "\n",
    "In short:\n",
    "\n",
    "The database client acts like a \"middleman\" between the database server and whoever/whatever\n",
    "needs to use the data.\"\"\""
   ]
  },
  {
   "cell_type": "code",
   "execution_count": 6,
   "id": "066045bd-54ba-46de-ac63-066c33a7ad70",
   "metadata": {},
   "outputs": [],
   "source": [
    "#Application -- A full program (like a website, mobile app, or desktop software) that needs to use data.\t\n",
    "#Like Netflix app — it shows you movies (data) e.g NEtflix App"
   ]
  },
  {
   "cell_type": "code",
   "execution_count": 7,
   "id": "cd4daab6-359a-441d-92e0-5d2eafbc83e7",
   "metadata": {},
   "outputs": [],
   "source": [
    "#Client\tA tool that connects to the database to send and receive data. It could be a human using a GUI, \n",
    "#or an application using a driver"
   ]
  },
  {
   "cell_type": "code",
   "execution_count": 8,
   "id": "8ffa7df7-81a1-4819-aa47-b87de8acc279",
   "metadata": {},
   "outputs": [],
   "source": [
    "#Database (DB)\tA system where data is stored, organized, and managed."
   ]
  },
  {
   "cell_type": "code",
   "execution_count": 9,
   "id": "56b7fa7e-df34-46b0-8986-4c2020834a47",
   "metadata": {},
   "outputs": [],
   "source": [
    "#two most commonly used clients when working with python are\n",
    "#1. Mysql-connector-python\n",
    "#2. SQLAchemy"
   ]
  },
  {
   "cell_type": "code",
   "execution_count": null,
   "id": "15d8dbfa-4fa7-4a9e-a0b3-2d0863665ae8",
   "metadata": {},
   "outputs": [],
   "source": [
    "# to connect to a db from an application you have to have mysql-connector module installed on your pc\n",
    "# simply run \"pip install mysql-connector-python\"\n",
    "\n",
    "\"\"\"pip will automatically:\n",
    "\n",
    "Find it online (from the Python Package Index — PyPI),\n",
    "\n",
    "Download it for you,\n",
    "\n",
    "Install it into your Python environment.\"\"\" #provided your pc is connected to the internet"
   ]
  },
  {
   "cell_type": "code",
   "execution_count": 1,
   "id": "1d90c151-b115-4569-bd8d-1ee29888554f",
   "metadata": {},
   "outputs": [],
   "source": [
    "#after installation, everytime you want to use it, you have to import it using\n",
    "import mysql.connector  "
   ]
  },
  {
   "cell_type": "code",
   "execution_count": 2,
   "id": "daa238ee-17fc-429e-aead-42676dc7f0e1",
   "metadata": {},
   "outputs": [
    {
     "name": "stdout",
     "output_type": "stream",
     "text": [
      "Connected to MySQL successfully!\n"
     ]
    }
   ],
   "source": [
    "#now is time to connect the successfully imported module with a db\n",
    "connection = mysql.connector.connect(\n",
    "    user = \"root\", \n",
    "    password = \"Qwerty12345\",#Username and Password are used to authenticate your access to the MySQL server\n",
    "    database = \"little_lee_dm\") #its NOT compulsory to choose the EXACT DB at this point\n",
    "\n",
    "#mysql.connector.connect() is used to establish a connection between your Python script and the MySQL DB.\n",
    "\n",
    "if connection.is_connected(): #The is_connected() method is used to check if the connection to the MySQL server is still active.\n",
    "    print(\"Connected to MySQL successfully!\") #"
   ]
  },
  {
   "cell_type": "code",
   "execution_count": null,
   "id": "0dbac46f-04ad-4ac7-a16a-39a104700bae",
   "metadata": {},
   "outputs": [],
   "source": [
    "#this is just how to use a try and except block in your connection to prevent crashing when wrong data is \n",
    "#inputed\n",
    "\"\"\"\n",
    "\n",
    "import mysql.connector\n",
    "\n",
    "try:\n",
    "    connection = mysql.connector.connect(\n",
    "        host='localhost',\n",
    "        user='your_username',\n",
    "        password='your_password',\n",
    "        database='your_database'\n",
    "    )\n",
    "    print(\"Connection successful!\")\n",
    "    connection.close()\n",
    "except:\n",
    "    print(\"Failed to connect.\") \n",
    "    \n",
    "\"\"\"\n"
   ]
  },
  {
   "cell_type": "code",
   "execution_count": 3,
   "id": "a9f0550f-562d-4b9d-a999-2826514927f0",
   "metadata": {},
   "outputs": [],
   "source": [
    "#mysql.connector\t        A library/package\n",
    "#mysql.connector.errors  \tA module inside the library\n",
    "#Error\t                    A class inside errors"
   ]
  },
  {
   "cell_type": "code",
   "execution_count": 4,
   "id": "8290a4db-7918-47a9-8a7c-bedb36e8e1f5",
   "metadata": {},
   "outputs": [],
   "source": [
    "#so the we can also use the error module along with the the try and except block "
   ]
  },
  {
   "cell_type": "code",
   "execution_count": 5,
   "id": "14d424a1-008d-4c09-a04a-a4970f0a51ce",
   "metadata": {},
   "outputs": [
    {
     "name": "stdout",
     "output_type": "stream",
     "text": [
      "Access denied: Please check your username or password.\n"
     ]
    }
   ],
   "source": [
    "import mysql.connector\n",
    "from mysql.connector import errors\n",
    "\n",
    "try:\n",
    "    connection = mysql.connector.connect(\n",
    "        host='localhost',\n",
    "        user='wrong_user',\n",
    "        password='wrong_password',\n",
    "        database='non_existent_db'\n",
    "    )\n",
    "    print(\"Connected successfully!\")\n",
    "    connection.close()\n",
    "\n",
    "except errors.ProgrammingError as e:\n",
    "    if e.errno == 1045:  # Access denied (wrong username/password)\n",
    "        print(\"Access denied: Please check your username or password.\")\n",
    "    elif e.errno == 1049:  # Unknown database\n",
    "        print(\"Database does not exist.\")\n",
    "    else:\n",
    "        print(f\"Programming error occurred: {e}\")\n",
    "\n",
    "except errors.Error as e:\n",
    "    print(f\"Some other MySQL error occurred: {e}\")\n"
   ]
  },
  {
   "cell_type": "code",
   "execution_count": null,
   "id": "8fe150fb-0a00-4a2b-8722-d1c36b1904e8",
   "metadata": {},
   "outputs": [],
   "source": [
    "#what are cursor objects \n",
    "\n",
    "\"\"\"🎯 What is a cursor object?\n",
    "A cursor is an object you create from a database connection.\n",
    "\n",
    "It is used to execute SQL queries (like SELECT, INSERT, UPDATE, DELETE) in your Python program.\n",
    "\n",
    "After running a query, the cursor lets you fetch results (for example, rows from a table).\n",
    "\n",
    "Simple way to think of it:\n",
    "\n",
    "Cursor = your \"controller\" to talk to the database.\"\"\"\n",
    "\n",
    "#You can't directly tell the connection:\n",
    "#\"Hey, select all users.\"\n",
    "#Instead, you must create a cursor first, and then use the cursor to send that command."
   ]
  },
  {
   "cell_type": "code",
   "execution_count": 3,
   "id": "39254802-c500-498b-add1-9bcc0f35c3a0",
   "metadata": {},
   "outputs": [
    {
     "name": "stdout",
     "output_type": "stream",
     "text": [
      "Connected to MySQL successfully!\n"
     ]
    }
   ],
   "source": [
    "#example of use of a cursor OBJECT\n",
    "import mysql.connector # line 1 assuming u are starting all over \n",
    "\n",
    "#line 2- utilizing the mysql connector to create a connection with a server and a particular DB\n",
    "connection = mysql.connector.connect(  \n",
    "    user = \"root\", \n",
    "    password = \"Qwerty12345\",\n",
    "    database = \"little_lee_dm\")\n",
    "\n",
    "#line 3- utilizing the is.connected() method just to confirm that connection was successful \n",
    "if connection.is_connected():\n",
    "    print(\"Connected to MySQL successfully!\")\n",
    "\n",
    "#line -4 creating a cursor to act like a messenger between your Python program and the database\n",
    "#it takes your message to the DB and brings back results \n",
    "#this is same as opening a cursor...some say declear a cursor..some say creating a cursor\n",
    "cursor = connection.cursor()\n",
    "\n",
    "show_tables_query = \"SHOW tables\" # an example of a simple sql query\n",
    "\n",
    "cursor.execute(show_tables_query) #this is a method of the cursor class "
   ]
  },
  {
   "cell_type": "code",
   "execution_count": 4,
   "id": "cfdbc1ee-a027-429c-bf81-3475bd817b42",
   "metadata": {},
   "outputs": [],
   "source": [
    "#🎯 fetchall(), fetchone(), fetchmany() are methods of a cursor object.\n",
    "\"\"\"IN LINE WITH OOP, they are sometimes refered to as cursor class\"\"\"\n",
    "#✅ They are methods (functions inside an object)\n",
    "#✅ Specifically, they are methods of the cursor you create from the database connection.\n",
    "\n",
    "#Method\t          What it does\n",
    "#execute(sql)\t  Sends a single SQL command to the database (like SELECT, INSERT, etc.).\n",
    "#fetchone()\t      Fetches only one row from the query result.\n",
    "#fetchall()\t      Fetches all rows from the query result.\n",
    "#fetchmany(size)  Fetches a specific number (size) of rows from the query result.\n",
    "#column_names      print the column names"
   ]
  },
  {
   "cell_type": "code",
   "execution_count": 5,
   "id": "bd2e0d12-33b6-49e4-b60d-9617c217eca4",
   "metadata": {},
   "outputs": [
    {
     "name": "stdout",
     "output_type": "stream",
     "text": [
      "('bookings',)\n",
      "('customers',)\n",
      "('menu',)\n",
      "('order_delivery_status',)\n",
      "('orders',)\n",
      "('ordersview',)\n",
      "('staff_info',)\n"
     ]
    }
   ],
   "source": [
    "#still under line 4. time to fetch the results into a variable and print the content of the varaible\n",
    "\n",
    "#based on the above instance of fetching a list of tables in the \"little_lee_dm\"\n",
    "results= cursor.fetchall()\n",
    "\n",
    "for result in results:\n",
    "    print (result)\n",
    "\n",
    "#please note that the results of cursors are read only and cannot be modified"
   ]
  },
  {
   "cell_type": "code",
   "execution_count": 30,
   "id": "6814e182-093f-4f5b-827f-23498af7f816",
   "metadata": {},
   "outputs": [],
   "source": [
    "#one important note about cursors\n",
    "# this cell executes an sql command\n",
    "cursor.execute (\"select * from bookings\")"
   ]
  },
  {
   "cell_type": "code",
   "execution_count": null,
   "id": "ee072d28-5f77-4a11-a2b0-10934d604c0e",
   "metadata": {},
   "outputs": [],
   "source": [
    "#and without calling out the results which the cursor is currently holding,\n",
    "#i attempt to instruct the same cursor to fetch a diff set of results...\n",
    "cursor.execute (\"select * from menu\")\n",
    "#Omo, e nor go gree lie lie. #unread results fould."
   ]
  },
  {
   "cell_type": "code",
   "execution_count": null,
   "id": "f03be9b1-c1c4-4bd9-8e67-84deb40591d0",
   "metadata": {},
   "outputs": [],
   "source": [
    "\"\"\"🛠 How to avoid it:\n",
    "👉 After every execute(), either:\n",
    "\n",
    "Call .fetchall(), .fetchone(), or .fetchmany()\"\"\""
   ]
  },
  {
   "cell_type": "code",
   "execution_count": 33,
   "id": "969a0ab6-c8a2-42fe-bd82-f18e5498611c",
   "metadata": {},
   "outputs": [],
   "source": [
    "results_of_bookings = cursor.fetchall()\n",
    "#at this point you can ask the cursor to fetch a another result. Even without printing out the results"
   ]
  },
  {
   "cell_type": "code",
   "execution_count": 34,
   "id": "bb9cf364-263d-4fd6-b8a3-c374cf807aa9",
   "metadata": {},
   "outputs": [],
   "source": [
    "columns = cursor.column_names"
   ]
  },
  {
   "cell_type": "code",
   "execution_count": 35,
   "id": "fef6eec8-35db-45a7-82a9-2f11689933dc",
   "metadata": {},
   "outputs": [
    {
     "name": "stdout",
     "output_type": "stream",
     "text": [
      "('BookingID', 'BookingDate', 'TableNumber', 'CustomerID', 'BookingStatus')\n",
      "(1, datetime.date(2022, 10, 10), 5, None, None)\n",
      "(2, datetime.date(2022, 11, 12), 3, None, None)\n",
      "(3, datetime.date(2022, 10, 11), 2, None, None)\n",
      "(4, datetime.date(2022, 10, 13), 2, None, None)\n"
     ]
    }
   ],
   "source": [
    "print (columns)\n",
    "for row in results_of_bookings:\n",
    "    print (row)\n",
    "\n",
    "#prints result set row by row"
   ]
  },
  {
   "cell_type": "code",
   "execution_count": 36,
   "id": "5bdbd3d8-534c-4696-9d7d-367d45d7a5fe",
   "metadata": {},
   "outputs": [
    {
     "name": "stdout",
     "output_type": "stream",
     "text": [
      "[(1, datetime.date(2022, 10, 10), 5, None, None), (2, datetime.date(2022, 11, 12), 3, None, None), (3, datetime.date(2022, 10, 11), 2, None, None), (4, datetime.date(2022, 10, 13), 2, None, None)]\n"
     ]
    }
   ],
   "source": [
    "print (results_of_bookings)\n",
    "#print results as a python list of tuples "
   ]
  },
  {
   "cell_type": "code",
   "execution_count": 37,
   "id": "efc98c1b-b15f-4244-9787-2e36a4f90b79",
   "metadata": {},
   "outputs": [
    {
     "data": {
      "text/plain": [
       "True"
      ]
     },
     "execution_count": 37,
     "metadata": {},
     "output_type": "execute_result"
    }
   ],
   "source": [
    "#closing a cursor\n",
    "#it is highly recommended and considered best practice to close the cursor once you're done using \n",
    "\n",
    "# Close the cursor after use\n",
    "cursor.close()\n",
    "# In Python's database libraries like SQLite, closing a cursor releases any resources it was using, \n",
    "#which helps optimize memory usage.\n",
    "#returns True, it means the cursor was successfully closed"
   ]
  },
  {
   "cell_type": "code",
   "execution_count": 39,
   "id": "73453036-e5fe-41f5-82d3-c1fa3eae17d0",
   "metadata": {},
   "outputs": [],
   "source": [
    "#naming cursors during creation\n",
    "#i can choose to name my cursor anything e.g\n",
    "#cursor = connection.cursor()\n",
    "#kelvin_cursor = connection.cursor()\n",
    "#joel_cursor = connection.cursor()\n",
    "#NB\n",
    "#whatever you use to name your cursor. is what you would use while the cusor is active\n",
    "#e.g kelvin_cursor.execute(), #joel_cursor.execute(), #kelvin_cursor.fetchall()"
   ]
  },
  {
   "cell_type": "code",
   "execution_count": null,
   "id": "bfd80c5e-1b2a-47ea-8eda-667e090ac1f3",
   "metadata": {},
   "outputs": [],
   "source": [
    "#there are two types of cursors\n",
    "\"\"\"1. standard cursor\n",
    "written as\"\"\"    \n",
    "#cursor = connection.cursor()\n",
    "\"\"\"2. Buffered cursor\n",
    "writtens as\"\"\"\n",
    "#cursor = conn.cursor(buffered=True)"
   ]
  },
  {
   "cell_type": "code",
   "execution_count": 41,
   "id": "2cec2f3b-29a0-4ae0-a48f-e812ebe3c5f5",
   "metadata": {},
   "outputs": [],
   "source": [
    "# diff btw standard and buffered"
   ]
  },
  {
   "cell_type": "code",
   "execution_count": null,
   "id": "53b4d782-09d0-4a06-86bb-f833e076bf36",
   "metadata": {},
   "outputs": [],
   "source": [
    "\"\"\"Standard Cursor (Unbuffered)\n",
    "Data Retrieval: Fetches rows on-demand, one at a time, as you iterate or call fetch methods.\n",
    "\n",
    "Memory Usage: Efficient for large datasets since it doesn't load all data into memory at once.\n",
    "\n",
    "Row Count: cursor.rowcount may return -1 for SELECT statements because the total number of rows \n",
    "isn't known until all are fetched.\n",
    "\n",
    "Multiple Cursors: If you execute a new query on the same connection before fully consuming \n",
    "the previous result set, you'll encounter an InternalError: Unread result found\"\"\""
   ]
  },
  {
   "cell_type": "code",
   "execution_count": null,
   "id": "8e9fc955-277b-4484-86ec-6c197282f303",
   "metadata": {},
   "outputs": [],
   "source": [
    " \"\"\"Buffered Cursor\n",
    "Data Retrieval: Fetches all rows immediately upon executing the query and stores them in memory.\n",
    "\n",
    "Memory Usage: Can be memory-intensive for large result sets.\n",
    "\n",
    "Row Count: cursor.rowcount accurately reflects the number of rows returned.\n",
    "\n",
    "Multiple Cursors: Allows multiple queries on the same connection without needing to consume previous\n",
    "results first. \"\"\""
   ]
  },
  {
   "cell_type": "code",
   "execution_count": 45,
   "id": "5f097e96-8946-40a3-ab55-3fea81238b0b",
   "metadata": {},
   "outputs": [],
   "source": [
    "#now real world exmaples"
   ]
  },
  {
   "cell_type": "code",
   "execution_count": 47,
   "id": "1e6fa2dd-cd7d-498a-b648-8727e0409ffa",
   "metadata": {},
   "outputs": [],
   "source": [
    "#example of use of a standard cursor object\n",
    "kev_cursor = connection.cursor()\n"
   ]
  },
  {
   "cell_type": "code",
   "execution_count": 48,
   "id": "62bda134-a4c4-46e6-874c-3a8bc303f4ab",
   "metadata": {},
   "outputs": [],
   "source": [
    "kev_cursor.execute (\"show tables\")"
   ]
  },
  {
   "cell_type": "code",
   "execution_count": 49,
   "id": "d4e47da6-3dc3-4f04-ac2a-2da5e8bd2a3e",
   "metadata": {},
   "outputs": [
    {
     "name": "stdout",
     "output_type": "stream",
     "text": [
      "0\n"
     ]
    }
   ],
   "source": [
    "print(kev_cursor.rowcount) #.rowcount is used to know the number of rows in the just executed query\n",
    "#would return an incorrect number of rows..ans #0 ..which is incorrect\n"
   ]
  },
  {
   "cell_type": "code",
   "execution_count": 50,
   "id": "4ad1b34c-7b12-4d73-b33f-04fd51177935",
   "metadata": {},
   "outputs": [
    {
     "name": "stdout",
     "output_type": "stream",
     "text": [
      "7\n"
     ]
    }
   ],
   "source": [
    "tables = kev_cursor.fetchall()\n",
    "print(len(tables))  # Now you will get the correct number of tables..this is only becuase it was after \n",
    "#fetchall() method had been used on the cursor class...correct ans 7\n"
   ]
  },
  {
   "cell_type": "code",
   "execution_count": 3,
   "id": "37d67364-c06b-4b11-91e5-4fc2f1d1402b",
   "metadata": {},
   "outputs": [
    {
     "name": "stdout",
     "output_type": "stream",
     "text": [
      "7\n"
     ]
    }
   ],
   "source": [
    "#Create a buffered cursor instead\n",
    "joel_cursor = connection.cursor(buffered=True)\n",
    "joel_cursor.execute(\"SHOW TABLES\")\n",
    "print(joel_cursor.rowcount)  # Now rowcount works directly!..correct ans 7\n"
   ]
  },
  {
   "cell_type": "code",
   "execution_count": null,
   "id": "9cfcbf4a-f87f-4114-9efd-96d1496f6157",
   "metadata": {},
   "outputs": [],
   "source": [
    "\"\"\"A buffered cursor in MySQL only retains the most recent query result. \n",
    "When you use .fetchall(), it retrieves the stored result from the last executed query.\n",
    "\n",
    "If you don't fetch a result and run another query immediately, the previous result is replaced without \n",
    "causing an error. \n",
    "\n",
    "This is different from an unbuffered cursor, where attempting to run a new query without fetching the\n",
    "previous results can cause errors due to unread data still lingering in memory.\n",
    "\n",
    "Buffered cursors are particularly useful when you want flexibility in executing multiple queries \n",
    "without needing to worry about manually consuming all the results before moving on.\"\"\"\n"
   ]
  },
  {
   "cell_type": "code",
   "execution_count": 53,
   "id": "5ec694e9-5e95-44fa-945b-78bb99c6ff95",
   "metadata": {},
   "outputs": [],
   "source": [
    "#now lets run multiple sql with the buffered cursor."
   ]
  },
  {
   "cell_type": "code",
   "execution_count": 54,
   "id": "9c93df3e-d272-44ac-8322-04df2eb859ad",
   "metadata": {},
   "outputs": [],
   "source": [
    "joel_cursor.execute(\"SHOW TABLES\")"
   ]
  },
  {
   "cell_type": "code",
   "execution_count": 73,
   "id": "bd013345-1804-45b4-9ee4-5e2747511502",
   "metadata": {},
   "outputs": [],
   "source": [
    "joel_cursor.execute(\"SELECT DATABASE() AS CurrentDatabase\") \n",
    "#if this was to be a standard cursor it would trow an error \n",
    "#becuase i have not fetched the previous results\n",
    "\n",
    "#however note that only one result would the cursor hold at a time, which is the very last cursor command"
   ]
  },
  {
   "cell_type": "code",
   "execution_count": 74,
   "id": "22605a79-e4b0-406d-9349-d67691cf18cd",
   "metadata": {},
   "outputs": [],
   "source": [
    "joel_cursor.execute(\"select * from menu\")"
   ]
  },
  {
   "cell_type": "code",
   "execution_count": 7,
   "id": "fbeae3fd-a051-4913-8b4c-a34fe9df4e1d",
   "metadata": {},
   "outputs": [],
   "source": [
    "menu_results = joel_cursor.fetchall()"
   ]
  },
  {
   "cell_type": "code",
   "execution_count": 9,
   "id": "0ea70f96-225d-4461-9d14-ad3fe3977db1",
   "metadata": {},
   "outputs": [
    {
     "name": "stdout",
     "output_type": "stream",
     "text": [
      "[]\n"
     ]
    }
   ],
   "source": [
    "print (menu_results) #this is becuase menu at the moment is empty so now lets first get the \n",
    "#column names and then insert data into the columns "
   ]
  },
  {
   "cell_type": "code",
   "execution_count": 11,
   "id": "7733b0d5-4958-42ea-8ec7-1ae6d2059d96",
   "metadata": {},
   "outputs": [
    {
     "name": "stdout",
     "output_type": "stream",
     "text": [
      "('MenuID', 'Cusines', 'Starters', 'Drink', 'Desserts')\n"
     ]
    }
   ],
   "source": [
    "joel_cursor.execute(\"select * from menu\")\n",
    "\n",
    "columns =joel_cursor.column_names\n",
    "\n",
    "print (columns)"
   ]
  },
  {
   "cell_type": "code",
   "execution_count": 69,
   "id": "83be397c-a501-47f0-bc0c-df853f54d17d",
   "metadata": {},
   "outputs": [],
   "source": [
    "#haven know the columns in menu table, we can easily insert data into those columns \n",
    "insert_into_menu_sql_query  = \"\"\"INSERT INTO menu (MenuID, Cusines, Starters, Drink, Desserts) \n",
    "VALUES\n",
    "(1, 'Italian', 'Bruschetta', 'Red Wine', 'Tiramisu'),\n",
    "(2, 'Chinese', 'Spring Rolls', 'Green Tea', 'Mango Pudding'),\n",
    "(3, 'Indian', 'Samosa', 'Masala Chai', 'Gulab Jamun'),\n",
    "(4, 'Mexican', 'Nachos', 'Margarita', 'Churros'),\n",
    "(5, 'French', 'Escargot', 'Champagne', 'Crème Brûlée'),\n",
    "(6, 'Japanese', 'Edamame', 'Sake', 'Mochi'),\n",
    "(7, 'American', 'Buffalo Wings', 'Cola', 'Apple Pie'),\n",
    "(8, 'Lebanese', 'Hummus', 'Mint Lemonade', 'Baklava'),\n",
    "(9, 'Thai', 'Satay Skewers', 'Thai Iced Tea', 'Sticky Rice'),\n",
    "(10, 'Greek', 'Dolmades', 'Ouzo', 'Galaktoboureko')\"\"\"\n"
   ]
  },
  {
   "cell_type": "code",
   "execution_count": 70,
   "id": "9a11d29f-9805-4208-88fb-e7c84abdf1fe",
   "metadata": {},
   "outputs": [],
   "source": [
    "joel_cursor.execute(insert_into_menu_sql_query)"
   ]
  },
  {
   "cell_type": "code",
   "execution_count": 71,
   "id": "1877d1e3-6511-4304-a6c2-4f71449aaaba",
   "metadata": {},
   "outputs": [],
   "source": [
    "#haven inserted the data in into the table,lets fetch out data to see if the 10 rows are there\n",
    "joel_cursor.execute(\"select * from menu\") # runs the sql query\n",
    "\n",
    "menu_data = joel_cursor.fetchall() #stores the results of the sql query in menu_data variable\n",
    "\n",
    "cols =joel_cursor.column_names  # gets the columns from the menu table to better explain the data\n",
    "\n",
    "\n"
   ]
  },
  {
   "cell_type": "code",
   "execution_count": 72,
   "id": "c1dc1e14-b6cc-4a3a-8841-1c1f2eadae4f",
   "metadata": {},
   "outputs": [
    {
     "name": "stdout",
     "output_type": "stream",
     "text": [
      "('MenuID', 'Cusines', 'Starters', 'Drink', 'Desserts')\n",
      "(1, 'Italian', 'Bruschetta', 'Red Wine', 'Tiramisu')\n",
      "(2, 'Chinese', 'Spring Rolls', 'Green Tea', 'Mango Pudding')\n",
      "(3, 'Indian', 'Samosa', 'Masala Chai', 'Gulab Jamun')\n",
      "(4, 'Mexican', 'Nachos', 'Margarita', 'Churros')\n",
      "(5, 'French', 'Escargot', 'Champagne', 'Crème Brûlée')\n",
      "(6, 'Japanese', 'Edamame', 'Sake', 'Mochi')\n",
      "(7, 'American', 'Buffalo Wings', 'Cola', 'Apple Pie')\n",
      "(8, 'Lebanese', 'Hummus', 'Mint Lemonade', 'Baklava')\n",
      "(9, 'Thai', 'Satay Skewers', 'Thai Iced Tea', 'Sticky Rice')\n",
      "(10, 'Greek', 'Dolmades', 'Ouzo', 'Galaktoboureko')\n"
     ]
    }
   ],
   "source": [
    "print (cols) # this is coming first becuase we want the columns to be at the top\n",
    "# and the rows to be at the bottom\n",
    "\n",
    "for row in menu_data:\n",
    "    print (row)\n",
    "\n",
    "#sharp...nice results\n",
    "\n",
    "#however, these data would not appear in the DATABASE SERVER this becuase you are yet to run\n",
    "#connection.commit() "
   ]
  },
  {
   "cell_type": "code",
   "execution_count": null,
   "id": "95338ca5-0c64-4e41-90f7-ebf9a60d2d8c",
   "metadata": {},
   "outputs": [],
   "source": [
    "#if you need to determine the particular db am working on"
   ]
  },
  {
   "cell_type": "code",
   "execution_count": 61,
   "id": "ea1a14da-aeb1-4336-84c3-9027c2e1946b",
   "metadata": {},
   "outputs": [],
   "source": [
    "joel_cursor.execute (\"SELECT DATABASE()\")"
   ]
  },
  {
   "cell_type": "code",
   "execution_count": 62,
   "id": "4db014f4-751e-4a04-b543-929b3679a74a",
   "metadata": {},
   "outputs": [],
   "source": [
    "db_name = joel_cursor.fetchall()"
   ]
  },
  {
   "cell_type": "code",
   "execution_count": 63,
   "id": "ac4daff4-d1f4-4199-a62f-918edd750ae2",
   "metadata": {},
   "outputs": [
    {
     "name": "stdout",
     "output_type": "stream",
     "text": [
      "[('little_lee_dm',)]\n"
     ]
    }
   ],
   "source": [
    "print (db_name)"
   ]
  },
  {
   "cell_type": "code",
   "execution_count": 4,
   "id": "51ef75ed-d775-4e7f-a194-bd7c9d349d9b",
   "metadata": {},
   "outputs": [],
   "source": [
    "#an attempt to get info from bookings jtable\n",
    "\n",
    "joel_cursor.execute (\"select * from bookings\")"
   ]
  },
  {
   "cell_type": "code",
   "execution_count": 5,
   "id": "89b32383-d7cb-450b-9376-bc3baba79f18",
   "metadata": {},
   "outputs": [],
   "source": [
    "bookings_data = joel_cursor.fetchall()\n"
   ]
  },
  {
   "cell_type": "code",
   "execution_count": 6,
   "id": "af524bfa-109e-46f4-a7f5-5dfd9f477806",
   "metadata": {},
   "outputs": [
    {
     "name": "stdout",
     "output_type": "stream",
     "text": [
      "(1, datetime.date(2022, 10, 10), 5, None, None)\n",
      "(2, datetime.date(2022, 11, 12), 3, None, None)\n",
      "(3, datetime.date(2022, 10, 11), 2, None, None)\n",
      "(4, datetime.date(2022, 10, 13), 2, None, None)\n"
     ]
    }
   ],
   "source": [
    "for row in bookings_data:\n",
    "    print (row)"
   ]
  },
  {
   "cell_type": "code",
   "execution_count": 21,
   "id": "1378bdb1-a939-4a28-813f-a4615b9b6f82",
   "metadata": {},
   "outputs": [],
   "source": [
    "joel_cursor.execute(\"SELECT MenuID FROM menu\")"
   ]
  },
  {
   "cell_type": "code",
   "execution_count": 22,
   "id": "662b825c-c0ba-4707-a2eb-c95b385dfe63",
   "metadata": {},
   "outputs": [],
   "source": [
    "steve = joel_cursor.fetchall()"
   ]
  },
  {
   "cell_type": "code",
   "execution_count": 23,
   "id": "616baa3f-1efb-4e0a-9fe5-f2ef5cff86ba",
   "metadata": {},
   "outputs": [
    {
     "name": "stdout",
     "output_type": "stream",
     "text": [
      "[(1,), (2,), (3,), (4,), (5,), (6,), (7,), (8,), (9,), (10,)]\n"
     ]
    }
   ],
   "source": [
    "print (steve)"
   ]
  },
  {
   "cell_type": "code",
   "execution_count": 58,
   "id": "07ad20c6-7ab4-4ea1-84f2-feae87e0f538",
   "metadata": {},
   "outputs": [],
   "source": [
    "#delete_data_in_staff_info = \"delete from staff_info\""
   ]
  },
  {
   "cell_type": "code",
   "execution_count": 55,
   "id": "631b0766-0461-4479-8f67-6869d314474d",
   "metadata": {},
   "outputs": [],
   "source": [
    "staff_table = joel_cursor.fetchall()\n"
   ]
  },
  {
   "cell_type": "code",
   "execution_count": 56,
   "id": "768f573c-a2c9-4d32-b04f-ea7f23a33416",
   "metadata": {},
   "outputs": [],
   "source": [
    "staff_info_columns = joel_cursor.column_names"
   ]
  },
  {
   "cell_type": "code",
   "execution_count": 57,
   "id": "3dfb4944-1252-45c4-bf2c-2fdba3276d72",
   "metadata": {},
   "outputs": [
    {
     "name": "stdout",
     "output_type": "stream",
     "text": [
      "()\n"
     ]
    }
   ],
   "source": [
    "print (staff_info_columns)\n",
    "for row in staff_table:\n",
    "    print (row)"
   ]
  },
  {
   "cell_type": "code",
   "execution_count": 60,
   "id": "a623a05f-e9dd-40f1-a956-13f8669dea92",
   "metadata": {},
   "outputs": [],
   "source": [
    "connection.commit()"
   ]
  },
  {
   "cell_type": "code",
   "execution_count": null,
   "id": "6a30242c-145b-4aad-93ae-a2b137359b21",
   "metadata": {},
   "outputs": [],
   "source": [
    "# It saves all the changes (all inserts, updates, deletes) that were done since the last commit.\n",
    "\n",
    "#Everything you did before calling commit() — all those operations are sent permanently to the database at once\n",
    "\n",
    "\"\"\"✅ You only need to call .commit() ONCE after all the changes you want to save.\n",
    "\n",
    "🎯 What it really means:\n",
    "When you insert, update, or delete something in your database using Python:\n",
    "\n",
    "The change happens first in memory (temporary).\n",
    "\n",
    "It is NOT permanent yet.\n",
    "\n",
    "Until you run:\n",
    "\n",
    "connection.commit()\"\"\""
   ]
  },
  {
   "cell_type": "code",
   "execution_count": null,
   "id": "798d0250-a8e9-4270-8701-f7e9e3ba2a58",
   "metadata": {},
   "outputs": [],
   "source": [
    "joel_cursor.close() # closing the cursor at completion of task. this frees up system resources \n",
    "#.returns true means it has been closed successfully\n",
    "#.returns false means cursor was not open in the first place"
   ]
  },
  {
   "cell_type": "code",
   "execution_count": null,
   "id": "dacae440-5c22-4eea-85c2-303851f74c9a",
   "metadata": {},
   "outputs": [],
   "source": [
    "#MySQLCursorDict is another subclass of MySQLCursorBase,\n",
    "#just like MySQLCursorBuffered is.\n",
    "'''It overrides how rows are fetched and formatted (into dicts instead of tuples).\n",
    "cursor = conn.cursor(buffered=True, dictionary=True)\n",
    "cursor.execute(\"SELECT * FROM employees\")\n",
    "row = cursor.fetchone()\n",
    "print(row)\n",
    "'''\n",
    "#{'first_name': 'John', 'last_name': 'Doe', 'age': 35}\n",
    "\n",
    "\"\"\"In a standard cursor (cursor = conn.cursor()) returns a tuple, like this:\n",
    "('John', 'Doe', 35)\"\"\"\n",
    "\n",
    "#Even if your table has 100 columns, the cursor will still map them automatically:'''\n",
    "\n",
    "#Column name → Key\n",
    "\n",
    "#Column value → Value\n",
    "\n",
    "#You don’t need to do anything special in your table design\n",
    "\n"
   ]
  },
  {
   "cell_type": "code",
   "execution_count": 3,
   "id": "d602b172-fa20-45d0-881e-d2de8e773158",
   "metadata": {},
   "outputs": [],
   "source": [
    "#Assume am starting afresh\n",
    "import mysql.connector  \n",
    "\n"
   ]
  },
  {
   "cell_type": "code",
   "execution_count": 4,
   "id": "7fff904e-da0e-4009-9baf-890698daa78b",
   "metadata": {},
   "outputs": [
    {
     "name": "stdout",
     "output_type": "stream",
     "text": [
      "Connected to MySQL successfully!\n"
     ]
    }
   ],
   "source": [
    "conn = mysql.connector.connect(\n",
    "    user = \"root\", \n",
    "    password = \"Qwerty12345\",\n",
    "    database = \"little_lee_dm\")\n",
    "\n",
    "if conn.is_connected():\n",
    "    print(\"Connected to MySQL successfully!\")"
   ]
  },
  {
   "cell_type": "code",
   "execution_count": 5,
   "id": "8535ea23-1f04-4705-a082-4ab0b58a1955",
   "metadata": {},
   "outputs": [],
   "source": [
    "#now lets create a buffered dictionary cursor "
   ]
  },
  {
   "cell_type": "code",
   "execution_count": 6,
   "id": "492caf72-09ff-452d-9e2e-8a41fad2f900",
   "metadata": {},
   "outputs": [],
   "source": [
    "cursor = conn.cursor(buffered=True, dictionary=True)"
   ]
  },
  {
   "cell_type": "code",
   "execution_count": 7,
   "id": "9eb03d62-cc23-42b1-a6bb-8c2df18082bb",
   "metadata": {},
   "outputs": [],
   "source": [
    "sql_to_get_customer_details = 'select * from customers'"
   ]
  },
  {
   "cell_type": "code",
   "execution_count": 8,
   "id": "ed417de3-12b0-46bb-b183-2a8d66ee5a4d",
   "metadata": {},
   "outputs": [],
   "source": [
    "cursor.execute (sql_to_get_customer_details)"
   ]
  },
  {
   "cell_type": "code",
   "execution_count": 9,
   "id": "2f5eadb0-7738-4e3d-a86d-9ce78a8c3cfc",
   "metadata": {},
   "outputs": [],
   "source": [
    "customers_data = cursor.fetchall()"
   ]
  },
  {
   "cell_type": "code",
   "execution_count": 10,
   "id": "6f9541d1-e969-460d-b66d-4cb9bca4e037",
   "metadata": {},
   "outputs": [],
   "source": [
    "cols = cursor.column_names"
   ]
  },
  {
   "cell_type": "code",
   "execution_count": 11,
   "id": "81f29cac-d44f-4aa0-84e5-53561f6c2095",
   "metadata": {},
   "outputs": [
    {
     "name": "stdout",
     "output_type": "stream",
     "text": [
      "('CustomerID', 'CustomerName', 'Contact_Details')\n",
      "{'CustomerID': '1', 'CustomerName': None, 'Contact_Details': None}\n",
      "{'CustomerID': '100', 'CustomerName': None, 'Contact_Details': None}\n",
      "{'CustomerID': '101', 'CustomerName': None, 'Contact_Details': None}\n",
      "{'CustomerID': '102', 'CustomerName': None, 'Contact_Details': None}\n",
      "{'CustomerID': '2', 'CustomerName': None, 'Contact_Details': None}\n",
      "{'CustomerID': '3', 'CustomerName': None, 'Contact_Details': None}\n",
      "{'CustomerID': '4', 'CustomerName': None, 'Contact_Details': None}\n",
      "{'CustomerID': '5', 'CustomerName': None, 'Contact_Details': None}\n",
      "{'CustomerID': '6', 'CustomerName': None, 'Contact_Details': None}\n",
      "{'CustomerID': '97', 'CustomerName': None, 'Contact_Details': None}\n",
      "{'CustomerID': '98', 'CustomerName': None, 'Contact_Details': None}\n",
      "{'CustomerID': '99', 'CustomerName': None, 'Contact_Details': None}\n"
     ]
    }
   ],
   "source": [
    "print (cols)\n",
    "\n",
    "for row in customers_data:\n",
    "    print (row)\n",
    "#becuase a cursor dict was used, the results was returned in form of a dcitionary"
   ]
  },
  {
   "cell_type": "code",
   "execution_count": 12,
   "id": "e5dc5a55-1dba-4476-892e-e038e924bc38",
   "metadata": {},
   "outputs": [
    {
     "data": {
      "text/plain": [
       "True"
      ]
     },
     "execution_count": 12,
     "metadata": {},
     "output_type": "execute_result"
    }
   ],
   "source": [
    "cursor.close() # frees up the resources as the cursor is no longer needed .\n",
    "#.returns true means it has been closed successfully\n",
    "#.returns false means cursor was not open in the first place"
   ]
  },
  {
   "cell_type": "code",
   "execution_count": 13,
   "id": "25ba87d0-621a-4213-8238-67b06e9df89c",
   "metadata": {},
   "outputs": [],
   "source": [
    "#one-off example of how this is python - is used to interact with a DB in a production environment"
   ]
  },
  {
   "cell_type": "code",
   "execution_count": 14,
   "id": "c957bde0-37d3-45e8-a9c8-bb71ad6cac30",
   "metadata": {},
   "outputs": [
    {
     "data": {
      "text/plain": [
       "'assume a db owner encountered a schedulling conflict. to resolve it, they need to push each booking slot \\nforward by one hour. you can instruct python to carry out this task, retrieve the data from the bookings table\\nand then add one hour to each booking.'"
      ]
     },
     "execution_count": 14,
     "metadata": {},
     "output_type": "execute_result"
    }
   ],
   "source": [
    "#task\n",
    "\"\"\"assume a db owner encountered a schedulling conflict. to resolve it, they need to push each booking slot \n",
    "forward by one hour. you can instruct python to carry out this task, retrieve the data from the bookings table\n",
    "and then add one hour to each booking.\"\"\""
   ]
  },
  {
   "cell_type": "code",
   "execution_count": 15,
   "id": "6c4d5621-72e0-4932-817d-63ba168dbc8e",
   "metadata": {},
   "outputs": [],
   "source": [
    "import mysql.connector  "
   ]
  },
  {
   "cell_type": "code",
   "execution_count": 16,
   "id": "e2c93ff4-40fb-4388-9233-89374f4383bc",
   "metadata": {},
   "outputs": [],
   "source": [
    "con = mysql.connector.connect(\n",
    "    user = \"root\", \n",
    "    password = \"Qwerty12345\") #Username and Password are used to authenticate your access to the MySQL server\n"
   ]
  },
  {
   "cell_type": "code",
   "execution_count": 17,
   "id": "f7758802-05f0-493f-9c04-adb8f240c4cc",
   "metadata": {},
   "outputs": [],
   "source": [
    "cursor = con.cursor(buffered=True)\n"
   ]
  },
  {
   "cell_type": "code",
   "execution_count": 18,
   "id": "810890f8-1cc5-46d5-b638-7f4159d4f1ad",
   "metadata": {},
   "outputs": [],
   "source": [
    "cursor.execute(\"use globalstores_final\")"
   ]
  },
  {
   "cell_type": "code",
   "execution_count": 19,
   "id": "80b0a613-7b1a-4695-9371-db2d61e10def",
   "metadata": {},
   "outputs": [],
   "source": [
    "create_table_sql = \"\"\"\n",
    "CREATE TABLE Bookings (\n",
    "    BookingID INT PRIMARY KEY,\n",
    "    TableNo INT,\n",
    "    BookingSlot DATETIME\n",
    ")\n",
    "\"\"\"\n",
    "\n",
    "#it is highly important that you create the BookingSlot column as a DATETIME DATA TYPE.\n",
    "#THis would enable easy addition of 1 hour without datatype conversion"
   ]
  },
  {
   "cell_type": "code",
   "execution_count": null,
   "id": "025a1a6f-20fd-4af4-b30e-a2999f8767e0",
   "metadata": {},
   "outputs": [],
   "source": [
    "cursor.execute(create_table_sql)"
   ]
  },
  {
   "cell_type": "code",
   "execution_count": null,
   "id": "894e71d0-6fa7-4377-b8e9-4ec40a1acfe8",
   "metadata": {},
   "outputs": [],
   "source": [
    "cursor.execute(\"\"\"\n",
    "    INSERT INTO Bookings (BookingID, TableNo, BookingSlot)\n",
    "    VALUES\n",
    "        (1, 5, '2024-09-16 12:00:00'),\n",
    "        (2, 3, '2024-09-16 18:00:00'),\n",
    "        (3, 1, '2024-09-16 08:00:00'),\n",
    "        (4, 9, '2024-09-16 14:00:00'),\n",
    "        (5, 7, '2024-09-16 21:00:00')\n",
    "\"\"\")\n"
   ]
  },
  {
   "cell_type": "code",
   "execution_count": 34,
   "id": "a0448d2b-6e3d-4206-9353-d1aa6a3cdb56",
   "metadata": {},
   "outputs": [],
   "source": [
    "con.commit() #to save the insert data permanently in the Database, do it would be visible there"
   ]
  },
  {
   "cell_type": "code",
   "execution_count": 22,
   "id": "53625ac0-b84e-408d-8bb7-811e9abc3092",
   "metadata": {},
   "outputs": [],
   "source": [
    "import datetime as dt"
   ]
  },
  {
   "cell_type": "code",
   "execution_count": 23,
   "id": "54d5b94e-a864-4200-8397-a2ccc88619fd",
   "metadata": {},
   "outputs": [],
   "source": [
    "#now lets import the table we want to work on into "
   ]
  },
  {
   "cell_type": "code",
   "execution_count": 24,
   "id": "94614af4-8cff-4457-ad2d-bfb714fd9e49",
   "metadata": {},
   "outputs": [],
   "source": [
    "sql_to_fetch_the_bookings_data = \"select * from Bookings\""
   ]
  },
  {
   "cell_type": "code",
   "execution_count": 25,
   "id": "cc3b4a7c-0f2e-40fa-8876-b28d12b9b0c7",
   "metadata": {},
   "outputs": [],
   "source": [
    "cursor.execute(sql_to_fetch_the_bookings_data)\n",
    "\n",
    "updated_schedule = cursor.fetchall()"
   ]
  },
  {
   "cell_type": "code",
   "execution_count": 27,
   "id": "c1d58a39-dd19-44bc-81d0-afbcad0ab4d0",
   "metadata": {},
   "outputs": [],
   "source": [
    "cols = cursor.column_names"
   ]
  },
  {
   "cell_type": "code",
   "execution_count": 39,
   "id": "2238d655-6046-4467-bc41-daa17f209893",
   "metadata": {},
   "outputs": [
    {
     "name": "stdout",
     "output_type": "stream",
     "text": [
      "('BookingID', 'TableNo', 'BookingSlot')\n",
      "BookingID 5 is moved from 2024-09-16 21:00:00 to 2024-09-16 22:00:00\n"
     ]
    }
   ],
   "source": [
    "print (cols)\n",
    "\n",
    "for row in updated_schedule:\n",
    "    BookingID =row[0]\n",
    "    BookingSlot =row[2]\n",
    "    new_BookingSlot = BookingSlot + dt.timedelta(hours=1)\n",
    "\n",
    "print (\"BookingID {} is moved from {} to {}\".format(BookingID, BookingSlot, new_BookingSlot))\n",
    "\n",
    "#if the print statement is outside the block: it would only print the last row\n",
    "#if the print statement is inside the code block(indented) it would print all rows"
   ]
  },
  {
   "cell_type": "code",
   "execution_count": 40,
   "id": "f9b6f41e-7102-444e-848f-44fd98c50ec3",
   "metadata": {},
   "outputs": [],
   "source": [
    "con.commit() \n"
   ]
  },
  {
   "cell_type": "code",
   "execution_count": 42,
   "id": "ad0923b0-da23-4e9e-a9ea-29d782fe10c8",
   "metadata": {},
   "outputs": [
    {
     "data": {
      "text/plain": [
       "False"
      ]
     },
     "execution_count": 42,
     "metadata": {},
     "output_type": "execute_result"
    }
   ],
   "source": [
    "cursor.close() # for some reasons i cant explain at the moment, the cursor refuse to close  "
   ]
  },
  {
   "cell_type": "code",
   "execution_count": null,
   "id": "268fbe9d-8d59-476b-8ecc-d8220263ad97",
   "metadata": {},
   "outputs": [],
   "source": []
  }
 ],
 "metadata": {
  "kernelspec": {
   "display_name": "Python 3 (ipykernel)",
   "language": "python",
   "name": "python3"
  },
  "language_info": {
   "codemirror_mode": {
    "name": "ipython",
    "version": 3
   },
   "file_extension": ".py",
   "mimetype": "text/x-python",
   "name": "python",
   "nbconvert_exporter": "python",
   "pygments_lexer": "ipython3",
   "version": "3.12.8"
  }
 },
 "nbformat": 4,
 "nbformat_minor": 5
}
